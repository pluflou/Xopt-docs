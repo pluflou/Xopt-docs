{
 "cells": [
  {
   "cell_type": "markdown",
   "metadata": {},
   "source": [
    "# Upper Confidence Bound BO\n"
   ]
  },
  {
   "cell_type": "code",
   "execution_count": null,
   "metadata": {
    "execution": {
     "iopub.execute_input": "2024-09-13T15:56:17.411738Z",
     "iopub.status.busy": "2024-09-13T15:56:17.411199Z",
     "iopub.status.idle": "2024-09-13T15:56:18.380269Z",
     "shell.execute_reply": "2024-09-13T15:56:18.379962Z"
    }
   },
   "outputs": [],
   "source": [
    "from xopt import Xopt\n",
    "\n",
    "# Ignore all warnings\n",
    "import warnings\n",
    "\n",
    "warnings.filterwarnings(\"ignore\")"
   ]
  },
  {
   "cell_type": "markdown",
   "metadata": {},
   "source": [
    "The `Xopt` object can be instantiated from a JSON or YAML file, or a dict, with the proper structure.\n",
    "\n",
    "Here we will make one"
   ]
  },
  {
   "cell_type": "code",
   "execution_count": null,
   "metadata": {
    "execution": {
     "iopub.execute_input": "2024-09-13T15:56:18.382048Z",
     "iopub.status.busy": "2024-09-13T15:56:18.381940Z",
     "iopub.status.idle": "2024-09-13T15:56:18.383540Z",
     "shell.execute_reply": "2024-09-13T15:56:18.383336Z"
    }
   },
   "outputs": [],
   "source": [
    "# Make a proper input file.\n",
    "YAML = \"\"\"\n",
    "generator:\n",
    "  name: upper_confidence_bound\n",
    "  beta: 0.1\n",
    "\n",
    "evaluator:\n",
    "  function: xopt.resources.test_functions.sinusoid_1d.evaluate_sinusoid\n",
    "\n",
    "vocs:\n",
    "  variables:\n",
    "    x1: [0, 6.28]\n",
    "  objectives:\n",
    "    y1: 'MINIMIZE'\n",
    "\"\"\""
   ]
  },
  {
   "cell_type": "code",
   "execution_count": null,
   "metadata": {
    "execution": {
     "iopub.execute_input": "2024-09-13T15:56:18.384797Z",
     "iopub.status.busy": "2024-09-13T15:56:18.384722Z",
     "iopub.status.idle": "2024-09-13T15:56:18.965528Z",
     "shell.execute_reply": "2024-09-13T15:56:18.965274Z"
    }
   },
   "outputs": [],
   "source": [
    "X = Xopt.from_yaml(YAML)\n",
    "X"
   ]
  },
  {
   "cell_type": "markdown",
   "metadata": {},
   "source": [
    "## Run Optimization"
   ]
  },
  {
   "cell_type": "code",
   "execution_count": null,
   "metadata": {
    "execution": {
     "iopub.execute_input": "2024-09-13T15:56:18.987017Z",
     "iopub.status.busy": "2024-09-13T15:56:18.986820Z",
     "iopub.status.idle": "2024-09-13T15:56:19.494115Z",
     "shell.execute_reply": "2024-09-13T15:56:19.493854Z"
    }
   },
   "outputs": [],
   "source": [
    "X.random_evaluate(3)\n",
    "for i in range(5):\n",
    "    print(i)\n",
    "    X.step()"
   ]
  },
  {
   "cell_type": "markdown",
   "metadata": {
    "collapsed": false,
    "jupyter": {
     "outputs_hidden": false
    }
   },
   "source": [
    "## View output data"
   ]
  },
  {
   "cell_type": "code",
   "execution_count": null,
   "metadata": {
    "execution": {
     "iopub.execute_input": "2024-09-13T15:56:19.495618Z",
     "iopub.status.busy": "2024-09-13T15:56:19.495487Z",
     "iopub.status.idle": "2024-09-13T15:56:19.500405Z",
     "shell.execute_reply": "2024-09-13T15:56:19.500188Z"
    },
    "jupyter": {
     "outputs_hidden": false
    }
   },
   "outputs": [],
   "source": [
    "X.data"
   ]
  },
  {
   "cell_type": "markdown",
   "metadata": {
    "collapsed": false,
    "jupyter": {
     "outputs_hidden": false
    }
   },
   "source": [
    "## Visualize model"
   ]
  },
  {
   "cell_type": "code",
   "execution_count": null,
   "metadata": {
    "execution": {
     "iopub.execute_input": "2024-09-13T15:56:19.501788Z",
     "iopub.status.busy": "2024-09-13T15:56:19.501679Z",
     "iopub.status.idle": "2024-09-13T15:56:19.941144Z",
     "shell.execute_reply": "2024-09-13T15:56:19.940870Z"
    }
   },
   "outputs": [],
   "source": [
    "fig, ax = X.generator.visualize_model(n_grid=100)"
   ]
  }
 ],
 "metadata": {
  "kernelspec": {
   "display_name": "Python 3 (ipykernel)",
   "language": "python",
   "name": "python3"
  },
  "language_info": {
   "codemirror_mode": {
    "name": "ipython",
    "version": 3
   },
   "file_extension": ".py",
   "mimetype": "text/x-python",
   "name": "python",
   "nbconvert_exporter": "python",
   "pygments_lexer": "ipython3",
   "version": "3.12.6"
  }
 },
 "nbformat": 4,
 "nbformat_minor": 4
}
