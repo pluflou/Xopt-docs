{
 "cells": [
  {
   "cell_type": "markdown",
   "metadata": {},
   "source": [
    "# Benchmarking"
   ]
  },
  {
   "cell_type": "code",
   "execution_count": null,
   "metadata": {
    "ExecuteTime": {
     "end_time": "2023-10-26T22:03:09.729462100Z",
     "start_time": "2023-10-26T22:03:06.180990700Z"
    },
    "execution": {
     "iopub.execute_input": "2024-09-13T15:56:30.955726Z",
     "iopub.status.busy": "2024-09-13T15:56:30.955156Z",
     "iopub.status.idle": "2024-09-13T15:56:32.687466Z",
     "shell.execute_reply": "2024-09-13T15:56:32.687060Z"
    },
    "jupyter": {
     "outputs_hidden": false
    }
   },
   "outputs": [],
   "source": [
    "import matplotlib.pyplot as plt\n",
    "import pandas as pd\n",
    "import torch\n",
    "from copy import deepcopy\n",
    "from xopt.generators.bayesian import ExpectedImprovementGenerator\n",
    "from xopt.generators.bayesian import BayesianExplorationGenerator\n",
    "\n",
    "from xopt.vocs import VOCS\n",
    "\n",
    "# Ignore all warnings\n",
    "import warnings\n",
    "\n",
    "warnings.filterwarnings(\"ignore\")\n",
    "\n",
    "vocs = VOCS(\n",
    "    variables={\"x\": [0, 1]},\n",
    "    objectives={\"y\": \"MAXIMIZE\"},\n",
    "    constraints={\"c\": [\"LESS_THAN\", 0]},\n",
    ")"
   ]
  },
  {
   "cell_type": "code",
   "execution_count": null,
   "metadata": {
    "ExecuteTime": {
     "end_time": "2023-10-26T22:03:09.924488500Z",
     "start_time": "2023-10-26T22:03:09.731462500Z"
    },
    "execution": {
     "iopub.execute_input": "2024-09-13T15:56:32.689311Z",
     "iopub.status.busy": "2024-09-13T15:56:32.689143Z",
     "iopub.status.idle": "2024-09-13T15:56:32.772273Z",
     "shell.execute_reply": "2024-09-13T15:56:32.772026Z"
    },
    "jupyter": {
     "outputs_hidden": false
    }
   },
   "outputs": [],
   "source": [
    "# define test functions\n",
    "def y(x):\n",
    "    return torch.sin(2 * 3.14 * x)\n",
    "\n",
    "\n",
    "def c(x):\n",
    "    return 10.0 * torch.cos(2 * 3.14 * x + 0.25)\n",
    "\n",
    "\n",
    "test_x = torch.linspace(*torch.tensor(vocs.bounds.flatten()), 100)\n",
    "\n",
    "# define training data to pass to the generator\n",
    "train_x = torch.tensor((0.2, 0.5, 0.6))\n",
    "train_y = y(train_x)\n",
    "train_c = c(train_x)\n",
    "\n",
    "data = pd.DataFrame({\"x\": train_x.numpy(), \"y\": train_y.numpy(), \"c\": train_c})\n",
    "\n",
    "\n",
    "def plot_ground_truth():\n",
    "    fig, ax = plt.subplots()\n",
    "    ax.plot(test_x, y(test_x), \"--C0\")\n",
    "    ax.plot(test_x, c(test_x), \"--C1\")\n",
    "    ax.plot(train_x, train_y, \"oC0\")\n",
    "    ax.plot(train_x, train_c, \"oC1\")\n",
    "\n",
    "    return ax\n",
    "\n",
    "\n",
    "plot_ground_truth();"
   ]
  },
  {
   "cell_type": "markdown",
   "metadata": {
    "collapsed": false,
    "jupyter": {
     "outputs_hidden": false
    }
   },
   "source": [
    "# Normal Model with Standard transforms and no constraints\n",
    "- acquisition function is Expected Improvement"
   ]
  },
  {
   "cell_type": "code",
   "execution_count": null,
   "metadata": {
    "ExecuteTime": {
     "end_time": "2023-10-26T22:03:10.494462400Z",
     "start_time": "2023-10-26T22:03:09.925461800Z"
    },
    "execution": {
     "iopub.execute_input": "2024-09-13T15:56:32.793612Z",
     "iopub.status.busy": "2024-09-13T15:56:32.793479Z",
     "iopub.status.idle": "2024-09-13T15:56:33.235778Z",
     "shell.execute_reply": "2024-09-13T15:56:33.235506Z"
    },
    "jupyter": {
     "outputs_hidden": false
    }
   },
   "outputs": [],
   "source": [
    "# plot the generator model and acquisition function\n",
    "test_vocs = deepcopy(vocs)\n",
    "test_vocs.constraints = {}\n",
    "generator = ExpectedImprovementGenerator(vocs=test_vocs)\n",
    "generator.add_data(data)\n",
    "model = generator.train_model()\n",
    "fig, ax = generator.visualize_model()"
   ]
  },
  {
   "cell_type": "markdown",
   "metadata": {
    "collapsed": false,
    "jupyter": {
     "outputs_hidden": false
    }
   },
   "source": [
    "# Normal Model with Standard transforms and constraints"
   ]
  },
  {
   "cell_type": "code",
   "execution_count": null,
   "metadata": {
    "ExecuteTime": {
     "end_time": "2023-10-26T22:03:11.274725200Z",
     "start_time": "2023-10-26T22:03:10.496461Z"
    },
    "execution": {
     "iopub.execute_input": "2024-09-13T15:56:33.237405Z",
     "iopub.status.busy": "2024-09-13T15:56:33.237212Z",
     "iopub.status.idle": "2024-09-13T15:56:33.558680Z",
     "shell.execute_reply": "2024-09-13T15:56:33.558427Z"
    },
    "jupyter": {
     "outputs_hidden": false
    }
   },
   "outputs": [],
   "source": [
    "# plot the generator model and acquisition function\n",
    "generator = ExpectedImprovementGenerator(vocs=deepcopy(vocs))\n",
    "generator.add_data(data)\n",
    "model = generator.train_model()\n",
    "fig, ax = generator.visualize_model()"
   ]
  },
  {
   "cell_type": "code",
   "execution_count": null,
   "metadata": {
    "ExecuteTime": {
     "end_time": "2023-10-26T22:03:12.144692900Z",
     "start_time": "2023-10-26T22:03:11.276691300Z"
    },
    "execution": {
     "iopub.execute_input": "2024-09-13T15:56:33.560357Z",
     "iopub.status.busy": "2024-09-13T15:56:33.560246Z",
     "iopub.status.idle": "2024-09-13T15:56:33.889156Z",
     "shell.execute_reply": "2024-09-13T15:56:33.888888Z"
    },
    "jupyter": {
     "outputs_hidden": false
    }
   },
   "outputs": [],
   "source": [
    "# plot the generator model and acquisition function\n",
    "tvocs = deepcopy(vocs)\n",
    "tvocs.constraints = {\"c\": [\"GREATER_THAN\", 0]}\n",
    "\n",
    "generator = ExpectedImprovementGenerator(vocs=tvocs)\n",
    "generator.add_data(data)\n",
    "model = generator.train_model()\n",
    "fig, ax = generator.visualize_model()"
   ]
  },
  {
   "cell_type": "code",
   "execution_count": null,
   "metadata": {
    "ExecuteTime": {
     "end_time": "2023-10-26T22:03:38.264419300Z",
     "start_time": "2023-10-26T22:03:37.355381700Z"
    },
    "execution": {
     "iopub.execute_input": "2024-09-13T15:56:33.891272Z",
     "iopub.status.busy": "2024-09-13T15:56:33.891143Z",
     "iopub.status.idle": "2024-09-13T15:56:34.212847Z",
     "shell.execute_reply": "2024-09-13T15:56:34.212564Z"
    },
    "jupyter": {
     "outputs_hidden": false
    }
   },
   "outputs": [],
   "source": [
    "# plot the generator model and acquisition function\n",
    "test_vocs = deepcopy(vocs)\n",
    "test_vocs.objectives = {}\n",
    "test_vocs.observables = [\"y\"]\n",
    "\n",
    "generator = BayesianExplorationGenerator(vocs=test_vocs)\n",
    "generator.add_data(data)\n",
    "model = generator.train_model()\n",
    "fig, ax = generator.visualize_model()"
   ]
  },
  {
   "cell_type": "code",
   "execution_count": null,
   "metadata": {
    "ExecuteTime": {
     "end_time": "2023-10-26T22:04:02.301053Z",
     "start_time": "2023-10-26T22:04:01.536716800Z"
    },
    "execution": {
     "iopub.execute_input": "2024-09-13T15:56:34.214620Z",
     "iopub.status.busy": "2024-09-13T15:56:34.214499Z",
     "iopub.status.idle": "2024-09-13T15:56:34.534405Z",
     "shell.execute_reply": "2024-09-13T15:56:34.534129Z"
    },
    "jupyter": {
     "outputs_hidden": false
    }
   },
   "outputs": [],
   "source": [
    "generator = BayesianExplorationGenerator(vocs=test_vocs)\n",
    "\n",
    "data = pd.DataFrame(\n",
    "    {\"x\": train_x.numpy(), \"y\": train_y.numpy(), \"c\": torch.zeros_like(train_y).numpy()}\n",
    ")\n",
    "generator.add_data(data)\n",
    "model = generator.train_model()\n",
    "fig, ax = generator.visualize_model()"
   ]
  },
  {
   "cell_type": "code",
   "execution_count": null,
   "metadata": {
    "ExecuteTime": {
     "end_time": "2023-10-26T22:04:02.767052200Z",
     "start_time": "2023-10-26T22:04:02.303051200Z"
    },
    "execution": {
     "iopub.execute_input": "2024-09-13T15:56:34.536114Z",
     "iopub.status.busy": "2024-09-13T15:56:34.536006Z",
     "iopub.status.idle": "2024-09-13T15:56:34.711473Z",
     "shell.execute_reply": "2024-09-13T15:56:34.711171Z"
    },
    "jupyter": {
     "outputs_hidden": false
    }
   },
   "outputs": [],
   "source": [
    "test_vocs = deepcopy(test_vocs)\n",
    "test_vocs.constraints = {}\n",
    "generator = BayesianExplorationGenerator(vocs=test_vocs)\n",
    "\n",
    "data = pd.DataFrame(\n",
    "    {\"x\": train_x.numpy(), \"y\": train_y.numpy(), \"c\": torch.zeros_like(train_y).numpy()}\n",
    ")\n",
    "generator.add_data(data)\n",
    "model = generator.train_model()\n",
    "fig, ax = generator.visualize_model()"
   ]
  }
 ],
 "metadata": {
  "kernelspec": {
   "display_name": "Python 3 (ipykernel)",
   "language": "python",
   "name": "python3"
  },
  "language_info": {
   "codemirror_mode": {
    "name": "ipython",
    "version": 3
   },
   "file_extension": ".py",
   "mimetype": "text/x-python",
   "name": "python",
   "nbconvert_exporter": "python",
   "pygments_lexer": "ipython3",
   "version": "3.12.6"
  }
 },
 "nbformat": 4,
 "nbformat_minor": 4
}
