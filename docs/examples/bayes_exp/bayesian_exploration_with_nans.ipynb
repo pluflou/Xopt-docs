{
 "cells": [
  {
   "cell_type": "markdown",
   "metadata": {},
   "source": [
    "# Bayesian Exploration with NaNs\n",
    "\n",
    "As violations of constraints can lead to invalid values of the objective, the evaluate function may simply return NaNs. We demonstrate below how we can still perform Bayesian Exploration in that case."
   ]
  },
  {
   "cell_type": "code",
   "execution_count": null,
   "metadata": {
    "ExecuteTime": {
     "end_time": "2023-06-14T15:37:25.535638700Z",
     "start_time": "2023-06-14T15:37:22.379218300Z"
    },
    "execution": {
     "iopub.execute_input": "2024-09-13T15:50:25.160005Z",
     "iopub.status.busy": "2024-09-13T15:50:25.159647Z",
     "iopub.status.idle": "2024-09-13T15:50:26.672325Z",
     "shell.execute_reply": "2024-09-13T15:50:26.671836Z"
    }
   },
   "outputs": [],
   "source": [
    "# set values if testing\n",
    "import os\n",
    "\n",
    "import pandas as pd\n",
    "import torch\n",
    "from copy import deepcopy\n",
    "from xopt import Xopt, Evaluator\n",
    "from xopt.generators.bayesian import BayesianExplorationGenerator\n",
    "from xopt.resources.test_functions.tnk import evaluate_TNK, tnk_vocs\n",
    "\n",
    "# Ignore all warnings\n",
    "import warnings\n",
    "\n",
    "warnings.filterwarnings(\"ignore\")\n",
    "\n",
    "SMOKE_TEST = os.environ.get(\"SMOKE_TEST\")\n",
    "NUM_MC_SAMPLES = 1 if SMOKE_TEST else 128\n",
    "NUM_RESTARTS = 1 if SMOKE_TEST else 20\n",
    "\n",
    "vocs = deepcopy(tnk_vocs)\n",
    "vocs.objectives = {}\n",
    "vocs.observables = [\"y1\"]"
   ]
  },
  {
   "cell_type": "code",
   "execution_count": null,
   "metadata": {
    "ExecuteTime": {
     "end_time": "2023-06-14T15:37:25.549637200Z",
     "start_time": "2023-06-14T15:37:25.539666500Z"
    },
    "execution": {
     "iopub.execute_input": "2024-09-13T15:50:26.674126Z",
     "iopub.status.busy": "2024-09-13T15:50:26.673966Z",
     "iopub.status.idle": "2024-09-13T15:50:26.676329Z",
     "shell.execute_reply": "2024-09-13T15:50:26.676082Z"
    }
   },
   "outputs": [],
   "source": [
    "# modify the evaluate function to return NaNs if constraints are violated\n",
    "def evaluate(input_dict):\n",
    "    output_dict = evaluate_TNK(input_dict)\n",
    "    del output_dict[\"y2\"]\n",
    "    for c in vocs.constraints.keys():\n",
    "        if (\n",
    "            vocs.constraints[c][0].upper() == \"GREATER_THAN\"\n",
    "            and output_dict[c] <= vocs.constraints[c][1]\n",
    "        ):\n",
    "            output_dict[\"y1\"] = torch.nan\n",
    "        elif (\n",
    "            vocs.constraints[c][0].upper() == \"LESS_THAN\"\n",
    "            and output_dict[c] >= vocs.constraints[c][1]\n",
    "        ):\n",
    "            output_dict[\"y1\"] = torch.nan\n",
    "    return output_dict"
   ]
  },
  {
   "cell_type": "code",
   "execution_count": null,
   "metadata": {
    "ExecuteTime": {
     "end_time": "2023-06-14T15:37:25.580538800Z",
     "start_time": "2023-06-14T15:37:25.552636600Z"
    },
    "execution": {
     "iopub.execute_input": "2024-09-13T15:50:26.677735Z",
     "iopub.status.busy": "2024-09-13T15:50:26.677632Z",
     "iopub.status.idle": "2024-09-13T15:50:26.685490Z",
     "shell.execute_reply": "2024-09-13T15:50:26.685270Z"
    }
   },
   "outputs": [],
   "source": [
    "generator = BayesianExplorationGenerator(vocs=vocs)\n",
    "generator.max_travel_distances = [0.25, 0.25]\n",
    "generator.n_monte_carlo_samples = NUM_MC_SAMPLES\n",
    "generator.numerical_optimizer.n_restarts = NUM_RESTARTS\n",
    "\n",
    "evaluator = Evaluator(function=evaluate)\n",
    "X = Xopt(generator=generator, evaluator=evaluator, vocs=vocs)\n",
    "X"
   ]
  },
  {
   "cell_type": "markdown",
   "metadata": {},
   "source": [
    "## Run exploration\n",
    "We start with evaluating 2 points that we know satisfy the constraints. We then run\n",
    "30 exploration steps."
   ]
  },
  {
   "cell_type": "code",
   "execution_count": null,
   "metadata": {
    "ExecuteTime": {
     "end_time": "2023-06-14T15:37:25.638907100Z",
     "start_time": "2023-06-14T15:37:25.582541Z"
    },
    "execution": {
     "iopub.execute_input": "2024-09-13T15:50:26.706489Z",
     "iopub.status.busy": "2024-09-13T15:50:26.706373Z",
     "iopub.status.idle": "2024-09-13T15:50:26.713499Z",
     "shell.execute_reply": "2024-09-13T15:50:26.713266Z"
    }
   },
   "outputs": [],
   "source": [
    "X.evaluate_data(pd.DataFrame({\"x1\": [1.0, 0.75], \"x2\": [0.7, 0.95]}))"
   ]
  },
  {
   "cell_type": "code",
   "execution_count": null,
   "metadata": {
    "ExecuteTime": {
     "end_time": "2023-06-14T15:42:05.755461900Z",
     "start_time": "2023-06-14T15:37:25.611873400Z"
    },
    "execution": {
     "iopub.execute_input": "2024-09-13T15:50:26.714870Z",
     "iopub.status.busy": "2024-09-13T15:50:26.714785Z",
     "iopub.status.idle": "2024-09-13T15:51:09.297672Z",
     "shell.execute_reply": "2024-09-13T15:51:09.297339Z"
    }
   },
   "outputs": [],
   "source": [
    "N_STEPS = 1 if SMOKE_TEST else 30\n",
    "for i in range(N_STEPS):\n",
    "    print(f\"step {i}\")\n",
    "    X.step()"
   ]
  },
  {
   "cell_type": "code",
   "execution_count": null,
   "metadata": {
    "ExecuteTime": {
     "end_time": "2023-06-14T15:42:05.786611100Z",
     "start_time": "2023-06-14T15:42:05.773463300Z"
    },
    "execution": {
     "iopub.execute_input": "2024-09-13T15:51:09.299490Z",
     "iopub.status.busy": "2024-09-13T15:51:09.299336Z",
     "iopub.status.idle": "2024-09-13T15:51:09.305496Z",
     "shell.execute_reply": "2024-09-13T15:51:09.305264Z"
    }
   },
   "outputs": [],
   "source": [
    "# view the data\n",
    "X.data"
   ]
  },
  {
   "cell_type": "code",
   "execution_count": null,
   "metadata": {
    "ExecuteTime": {
     "end_time": "2023-06-14T15:42:06.400652600Z",
     "start_time": "2023-06-14T15:42:05.787612700Z"
    },
    "execution": {
     "iopub.execute_input": "2024-09-13T15:51:09.306861Z",
     "iopub.status.busy": "2024-09-13T15:51:09.306776Z",
     "iopub.status.idle": "2024-09-13T15:51:09.645048Z",
     "shell.execute_reply": "2024-09-13T15:51:09.644777Z"
    }
   },
   "outputs": [],
   "source": [
    "# plot results\n",
    "ax = X.data.plot(\"x1\", \"x2\")\n",
    "ax.set_aspect(\"equal\")"
   ]
  }
 ],
 "metadata": {
  "kernelspec": {
   "display_name": "Python 3 (ipykernel)",
   "language": "python",
   "name": "python3"
  },
  "language_info": {
   "codemirror_mode": {
    "name": "ipython",
    "version": 3
   },
   "file_extension": ".py",
   "mimetype": "text/x-python",
   "name": "python",
   "nbconvert_exporter": "python",
   "pygments_lexer": "ipython3",
   "version": "3.12.6"
  }
 },
 "nbformat": 4,
 "nbformat_minor": 4
}
