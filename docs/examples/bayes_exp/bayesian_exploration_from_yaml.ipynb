{
 "cells": [
  {
   "cell_type": "markdown",
   "metadata": {},
   "source": [
    "# Bayesian exploration from YAML"
   ]
  },
  {
   "cell_type": "code",
   "execution_count": null,
   "metadata": {
    "ExecuteTime": {
     "end_time": "2023-06-27T15:40:58.222341700Z",
     "start_time": "2023-06-27T15:40:49.783378500Z"
    },
    "execution": {
     "iopub.execute_input": "2024-09-13T15:50:02.293334Z",
     "iopub.status.busy": "2024-09-13T15:50:02.293007Z",
     "iopub.status.idle": "2024-09-13T15:50:03.279640Z",
     "shell.execute_reply": "2024-09-13T15:50:03.279335Z"
    },
    "jupyter": {
     "outputs_hidden": false
    }
   },
   "outputs": [],
   "source": [
    "from xopt import Xopt\n",
    "\n",
    "# set values if testing\n",
    "import os\n",
    "\n",
    "import warnings\n",
    "\n",
    "warnings.filterwarnings(\"ignore\")\n",
    "\n",
    "\n",
    "SMOKE_TEST = os.environ.get(\"SMOKE_TEST\")\n",
    "\n",
    "YAML = \"\"\"\n",
    "generator:\n",
    "    name: bayesian_exploration\n",
    "\n",
    "evaluator:\n",
    "    function: xopt.resources.test_functions.tnk.evaluate_TNK\n",
    "\n",
    "vocs:\n",
    "    variables:\n",
    "        x1: [0, 3.14159]\n",
    "        x2: [0, 3.14159]\n",
    "    observables: [y1]\n",
    "    constraints:\n",
    "        c1: [GREATER_THAN, 0]\n",
    "        c2: [LESS_THAN, 0.5]\n",
    "    constants: {a: dummy_constant}\n",
    "\n",
    "\"\"\""
   ]
  },
  {
   "cell_type": "code",
   "execution_count": null,
   "metadata": {
    "ExecuteTime": {
     "end_time": "2023-06-27T15:40:58.279371300Z",
     "start_time": "2023-06-27T15:40:58.223342400Z"
    },
    "execution": {
     "iopub.execute_input": "2024-09-13T15:50:03.281449Z",
     "iopub.status.busy": "2024-09-13T15:50:03.281310Z",
     "iopub.status.idle": "2024-09-13T15:50:03.870248Z",
     "shell.execute_reply": "2024-09-13T15:50:03.869883Z"
    },
    "jupyter": {
     "outputs_hidden": false
    }
   },
   "outputs": [],
   "source": [
    "X = Xopt.from_yaml(YAML)\n",
    "\n",
    "# for testing purposes only\n",
    "if SMOKE_TEST:\n",
    "    X.generator.numerical_optimizer.n_restarts = 1\n",
    "    X.generator.n_monte_carlo_samples = 1\n",
    "\n",
    "X"
   ]
  },
  {
   "cell_type": "code",
   "execution_count": null,
   "metadata": {
    "ExecuteTime": {
     "end_time": "2023-06-27T15:41:47.000398300Z",
     "start_time": "2023-06-27T15:40:58.255341800Z"
    },
    "execution": {
     "iopub.execute_input": "2024-09-13T15:50:03.891525Z",
     "iopub.status.busy": "2024-09-13T15:50:03.891330Z",
     "iopub.status.idle": "2024-09-13T15:50:21.303719Z",
     "shell.execute_reply": "2024-09-13T15:50:21.303365Z"
    },
    "jupyter": {
     "outputs_hidden": false
    }
   },
   "outputs": [],
   "source": [
    "X.random_evaluate(5)\n",
    "\n",
    "for i in range(5):\n",
    "    print(f\"step {i}\")\n",
    "    X.step()"
   ]
  },
  {
   "cell_type": "code",
   "execution_count": null,
   "metadata": {
    "ExecuteTime": {
     "end_time": "2023-06-27T15:41:47.016401600Z",
     "start_time": "2023-06-27T15:41:47.002399Z"
    },
    "execution": {
     "iopub.execute_input": "2024-09-13T15:50:21.305548Z",
     "iopub.status.busy": "2024-09-13T15:50:21.305362Z",
     "iopub.status.idle": "2024-09-13T15:50:21.309628Z",
     "shell.execute_reply": "2024-09-13T15:50:21.309368Z"
    },
    "jupyter": {
     "outputs_hidden": false
    }
   },
   "outputs": [],
   "source": [
    "print(X.data)"
   ]
  },
  {
   "cell_type": "code",
   "execution_count": null,
   "metadata": {
    "ExecuteTime": {
     "end_time": "2023-06-27T15:41:47.949659600Z",
     "start_time": "2023-06-27T15:41:47.017428500Z"
    },
    "execution": {
     "iopub.execute_input": "2024-09-13T15:50:21.311002Z",
     "iopub.status.busy": "2024-09-13T15:50:21.310915Z",
     "iopub.status.idle": "2024-09-13T15:50:21.641630Z",
     "shell.execute_reply": "2024-09-13T15:50:21.641351Z"
    },
    "jupyter": {
     "outputs_hidden": false
    }
   },
   "outputs": [],
   "source": [
    "# plot results\n",
    "ax = X.data.plot(\"x1\", \"x2\")\n",
    "ax.set_aspect(\"equal\")"
   ]
  },
  {
   "cell_type": "code",
   "execution_count": null,
   "metadata": {
    "execution": {
     "iopub.execute_input": "2024-09-13T15:50:21.643202Z",
     "iopub.status.busy": "2024-09-13T15:50:21.643041Z",
     "iopub.status.idle": "2024-09-13T15:50:22.876968Z",
     "shell.execute_reply": "2024-09-13T15:50:22.876653Z"
    }
   },
   "outputs": [],
   "source": [
    "fig, ax = X.generator.visualize_model(show_feasibility=True, n_grid=100)"
   ]
  }
 ],
 "metadata": {
  "interpreter": {
   "hash": "72034539424920dfb606fe3b820b3f27dca0cbf1c69938110810ec4641e275b1"
  },
  "kernelspec": {
   "display_name": "Python 3 (ipykernel)",
   "language": "python",
   "name": "python3"
  },
  "language_info": {
   "codemirror_mode": {
    "name": "ipython",
    "version": 3
   },
   "file_extension": ".py",
   "mimetype": "text/x-python",
   "name": "python",
   "nbconvert_exporter": "python",
   "pygments_lexer": "ipython3",
   "version": "3.12.6"
  }
 },
 "nbformat": 4,
 "nbformat_minor": 4
}
