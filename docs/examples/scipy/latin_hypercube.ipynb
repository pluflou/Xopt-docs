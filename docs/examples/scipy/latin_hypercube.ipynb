{
 "cells": [
  {
   "cell_type": "markdown",
   "metadata": {},
   "source": [
    "# Latin Hypercube Generator Example\n",
    "This notebook demonstrates basic use of the latin hypercube generator. This generator is a wrapper for the scipy latin hypercube method and allows users to efficiently sample functions (eg for surrogate models). Because the distribution of points depends on the number of sample requested, internally the xopt routine stores a batch of samples. The batch size is specified as an argument to the object's constructor. All other parameters to the scipy function are broken out this way and for a detailed explanation of what they do, the scipy documentation should be consulted."
   ]
  },
  {
   "cell_type": "code",
   "execution_count": null,
   "metadata": {
    "execution": {
     "iopub.execute_input": "2024-09-13T15:59:48.342031Z",
     "iopub.status.busy": "2024-09-13T15:59:48.341760Z",
     "iopub.status.idle": "2024-09-13T15:59:49.822807Z",
     "shell.execute_reply": "2024-09-13T15:59:49.822468Z"
    }
   },
   "outputs": [],
   "source": [
    "from copy import deepcopy\n",
    "from xopt import Xopt, Evaluator\n",
    "from xopt.generators.scipy.latin_hypercube import LatinHypercubeGenerator\n",
    "from xopt.resources.test_functions.tnk import evaluate_TNK, tnk_vocs\n",
    "import matplotlib.pyplot as plt\n",
    "import numpy as np"
   ]
  },
  {
   "cell_type": "code",
   "execution_count": null,
   "metadata": {
    "execution": {
     "iopub.execute_input": "2024-09-13T15:59:49.824577Z",
     "iopub.status.busy": "2024-09-13T15:59:49.824438Z",
     "iopub.status.idle": "2024-09-13T15:59:49.831947Z",
     "shell.execute_reply": "2024-09-13T15:59:49.831721Z"
    }
   },
   "outputs": [],
   "source": [
    "# Create the test problem\n",
    "vocs = deepcopy(tnk_vocs)\n",
    "vocs.objectives = {}\n",
    "vocs.observables = [\"y1\"]\n",
    "evaluator = Evaluator(function=evaluate_TNK)\n",
    "\n",
    "# Create the generator and xopt object. Note: the samples are generated in\n",
    "# batches and the batch size determines the arrangement of points to cover\n",
    "# the bounded region of the variables.\n",
    "generator = LatinHypercubeGenerator(vocs=vocs, batch_size=1024)\n",
    "X = Xopt(generator=generator, evaluator=evaluator, vocs=vocs)\n",
    "X"
   ]
  },
  {
   "cell_type": "code",
   "execution_count": null,
   "metadata": {
    "execution": {
     "iopub.execute_input": "2024-09-13T15:59:49.853822Z",
     "iopub.status.busy": "2024-09-13T15:59:49.853693Z",
     "iopub.status.idle": "2024-09-13T15:59:52.771762Z",
     "shell.execute_reply": "2024-09-13T15:59:52.771514Z"
    }
   },
   "outputs": [],
   "source": [
    "# Sample the function a number of times using latin hypercube points\n",
    "for _ in range(1024):\n",
    "    X.step()\n",
    "X.data.head()"
   ]
  },
  {
   "cell_type": "code",
   "execution_count": null,
   "metadata": {
    "execution": {
     "iopub.execute_input": "2024-09-13T15:59:52.773315Z",
     "iopub.status.busy": "2024-09-13T15:59:52.773198Z",
     "iopub.status.idle": "2024-09-13T15:59:52.954069Z",
     "shell.execute_reply": "2024-09-13T15:59:52.953771Z"
    }
   },
   "outputs": [],
   "source": [
    "# Plot the data\n",
    "plt.scatter(X.data[\"x1\"], X.data[\"x2\"], c=X.data[\"y1\"])\n",
    "plt.xlabel(\"x1\")\n",
    "plt.ylabel(\"x2\")\n",
    "plt.colorbar(label=\"y1\")"
   ]
  },
  {
   "cell_type": "markdown",
   "metadata": {},
   "source": [
    "## Distribution of Latin Hypercube points\n",
    "Points in latin hypercube sampling are arranged in a grid such that none occupy the same row or column. That is, in chess it is similar to having n rooks on the board which cannot take each other. We can demonstrate this in the sampler by turning off the \"scramble\" feature (turned on by default)."
   ]
  },
  {
   "cell_type": "code",
   "execution_count": null,
   "metadata": {
    "execution": {
     "iopub.execute_input": "2024-09-13T15:59:52.956942Z",
     "iopub.status.busy": "2024-09-13T15:59:52.956849Z",
     "iopub.status.idle": "2024-09-13T15:59:53.101131Z",
     "shell.execute_reply": "2024-09-13T15:59:53.100871Z"
    }
   },
   "outputs": [],
   "source": [
    "n = 16\n",
    "generator = LatinHypercubeGenerator(vocs=vocs, batch_size=n, scramble=False, seed=0)\n",
    "X = Xopt(generator=generator, evaluator=evaluator, vocs=vocs)\n",
    "for _ in range(n):\n",
    "    X.step()\n",
    "\n",
    "plt.scatter(X.data[\"x1\"], X.data[\"x2\"], c=X.data[\"y1\"])\n",
    "plt.xlabel(\"x1\")\n",
    "plt.ylabel(\"x2\")\n",
    "plt.colorbar(label=\"y1\")\n",
    "\n",
    "plt.hlines(np.linspace(0, 3.1416, n + 1), 0, 3.1416, color=\"k\")\n",
    "plt.vlines(np.linspace(0, 3.1416, n + 1), 0, 3.1416, color=\"k\")"
   ]
  },
  {
   "cell_type": "markdown",
   "metadata": {},
   "source": [
    "The scramble feature will randomize the location of the points within each square while still maintaining the latin hypercube style cells."
   ]
  },
  {
   "cell_type": "code",
   "execution_count": null,
   "metadata": {
    "execution": {
     "iopub.execute_input": "2024-09-13T15:59:53.102570Z",
     "iopub.status.busy": "2024-09-13T15:59:53.102481Z",
     "iopub.status.idle": "2024-09-13T15:59:53.242827Z",
     "shell.execute_reply": "2024-09-13T15:59:53.242558Z"
    }
   },
   "outputs": [],
   "source": [
    "n = 16\n",
    "generator = LatinHypercubeGenerator(vocs=vocs, batch_size=n, scramble=True, seed=0)\n",
    "X = Xopt(generator=generator, evaluator=evaluator, vocs=vocs)\n",
    "for _ in range(n):\n",
    "    X.step()\n",
    "\n",
    "plt.scatter(X.data[\"x1\"], X.data[\"x2\"], c=X.data[\"y1\"])\n",
    "plt.xlabel(\"x1\")\n",
    "plt.ylabel(\"x2\")\n",
    "plt.colorbar(label=\"y1\")\n",
    "\n",
    "plt.hlines(np.linspace(0, 3.1416, n + 1), 0, 3.1416, color=\"k\")\n",
    "plt.vlines(np.linspace(0, 3.1416, n + 1), 0, 3.1416, color=\"k\")"
   ]
  }
 ],
 "metadata": {
  "kernelspec": {
   "display_name": "Python 3 (ipykernel)",
   "language": "python",
   "name": "python3"
  },
  "language_info": {
   "codemirror_mode": {
    "name": "ipython",
    "version": 3
   },
   "file_extension": ".py",
   "mimetype": "text/x-python",
   "name": "python",
   "nbconvert_exporter": "python",
   "pygments_lexer": "ipython3",
   "version": "3.12.6"
  }
 },
 "nbformat": 4,
 "nbformat_minor": 4
}
