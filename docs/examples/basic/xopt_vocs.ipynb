{
 "cells": [
  {
   "cell_type": "markdown",
   "id": "9700f595",
   "metadata": {
    "pycharm": {
     "name": "#%% md\n"
    }
   },
   "source": [
    "# VOCS data structure \n",
    "\n",
    "Variables, Objectives, Constraints, and other Settings (VOCS) helps define our optimization problems. "
   ]
  },
  {
   "cell_type": "code",
   "execution_count": null,
   "id": "32324ac0-b299-42ee-a6b9-e112dfaa5a45",
   "metadata": {
    "ExecuteTime": {
     "end_time": "2023-10-27T16:46:04.425862200Z",
     "start_time": "2023-10-27T16:46:01.206803200Z"
    },
    "execution": {
     "iopub.execute_input": "2024-09-13T15:54:23.378500Z",
     "iopub.status.busy": "2024-09-13T15:54:23.378214Z",
     "iopub.status.idle": "2024-09-13T15:54:24.383836Z",
     "shell.execute_reply": "2024-09-13T15:54:24.383553Z"
    },
    "pycharm": {
     "name": "#%%\n"
    }
   },
   "outputs": [],
   "source": [
    "from xopt.vocs import VOCS\n",
    "from xopt.vocs import form_objective_data\n",
    "import pandas as pd\n",
    "import numpy as np"
   ]
  },
  {
   "cell_type": "code",
   "execution_count": null,
   "id": "31a15253-14cd-4547-ab01-09f4b56f5bf5",
   "metadata": {
    "ExecuteTime": {
     "end_time": "2023-10-27T16:46:04.440220800Z",
     "start_time": "2023-10-27T16:46:04.427862900Z"
    },
    "execution": {
     "iopub.execute_input": "2024-09-13T15:54:24.385474Z",
     "iopub.status.busy": "2024-09-13T15:54:24.385365Z",
     "iopub.status.idle": "2024-09-13T15:54:24.389440Z",
     "shell.execute_reply": "2024-09-13T15:54:24.389205Z"
    },
    "pycharm": {
     "name": "#%%\n"
    }
   },
   "outputs": [],
   "source": [
    "Y = \"\"\"\n",
    "variables:\n",
    "  a: [0, 1e3] # Note that 1e3 usually parses as a str with YAML. \n",
    "  b: [-1, 1]\n",
    "objectives:\n",
    "  c: maximize\n",
    "  d: minimize \n",
    "constraints:\n",
    "  e: ['Less_than', 2]\n",
    "  f: ['greater_than', 0]\n",
    "constants:\n",
    "  g: 1234\n",
    "\n",
    "\"\"\"\n",
    "\n",
    "vocs = VOCS.from_yaml(Y)\n",
    "vocs"
   ]
  },
  {
   "cell_type": "code",
   "execution_count": null,
   "id": "304bcc89",
   "metadata": {
    "ExecuteTime": {
     "end_time": "2023-10-27T16:46:04.484822200Z",
     "start_time": "2023-10-27T16:46:04.442248900Z"
    },
    "execution": {
     "iopub.execute_input": "2024-09-13T15:54:24.390834Z",
     "iopub.status.busy": "2024-09-13T15:54:24.390728Z",
     "iopub.status.idle": "2024-09-13T15:54:24.392869Z",
     "shell.execute_reply": "2024-09-13T15:54:24.392654Z"
    },
    "pycharm": {
     "name": "#%%\n"
    }
   },
   "outputs": [],
   "source": [
    "# as dict\n",
    "dict(vocs)"
   ]
  },
  {
   "cell_type": "code",
   "execution_count": null,
   "id": "b236bfb4",
   "metadata": {
    "ExecuteTime": {
     "end_time": "2023-10-27T16:46:04.493762900Z",
     "start_time": "2023-10-27T16:46:04.458284400Z"
    },
    "execution": {
     "iopub.execute_input": "2024-09-13T15:54:24.394199Z",
     "iopub.status.busy": "2024-09-13T15:54:24.394090Z",
     "iopub.status.idle": "2024-09-13T15:54:24.395693Z",
     "shell.execute_reply": "2024-09-13T15:54:24.395474Z"
    },
    "pycharm": {
     "name": "#%%\n"
    }
   },
   "outputs": [],
   "source": [
    "#  re-parse dict\n",
    "vocs2 = VOCS.from_dict(dict(vocs))"
   ]
  },
  {
   "cell_type": "code",
   "execution_count": null,
   "id": "76c9a173",
   "metadata": {
    "ExecuteTime": {
     "end_time": "2023-10-27T16:46:04.493762900Z",
     "start_time": "2023-10-27T16:46:04.471285600Z"
    },
    "execution": {
     "iopub.execute_input": "2024-09-13T15:54:24.396935Z",
     "iopub.status.busy": "2024-09-13T15:54:24.396858Z",
     "iopub.status.idle": "2024-09-13T15:54:24.398815Z",
     "shell.execute_reply": "2024-09-13T15:54:24.398561Z"
    },
    "pycharm": {
     "name": "#%%\n"
    }
   },
   "outputs": [],
   "source": [
    "# Check that these are the same\n",
    "vocs2 == vocs"
   ]
  },
  {
   "cell_type": "code",
   "execution_count": null,
   "id": "6a846f4d",
   "metadata": {
    "ExecuteTime": {
     "end_time": "2023-10-27T16:46:04.503771300Z",
     "start_time": "2023-10-27T16:46:04.486737500Z"
    },
    "execution": {
     "iopub.execute_input": "2024-09-13T15:54:24.400062Z",
     "iopub.status.busy": "2024-09-13T15:54:24.399983Z",
     "iopub.status.idle": "2024-09-13T15:54:24.402060Z",
     "shell.execute_reply": "2024-09-13T15:54:24.401833Z"
    },
    "pycharm": {
     "name": "#%%\n"
    }
   },
   "outputs": [],
   "source": [
    "# This replaces the old vocs[\"variables\"]\n",
    "getattr(vocs, \"variables\")"
   ]
  },
  {
   "cell_type": "code",
   "execution_count": null,
   "id": "6fa2afc8",
   "metadata": {
    "ExecuteTime": {
     "end_time": "2023-10-27T16:46:04.544770800Z",
     "start_time": "2023-10-27T16:46:04.504768500Z"
    },
    "execution": {
     "iopub.execute_input": "2024-09-13T15:54:24.403350Z",
     "iopub.status.busy": "2024-09-13T15:54:24.403277Z",
     "iopub.status.idle": "2024-09-13T15:54:24.405301Z",
     "shell.execute_reply": "2024-09-13T15:54:24.405056Z"
    },
    "pycharm": {
     "name": "#%%\n"
    }
   },
   "outputs": [],
   "source": [
    "vocs.objectives[\"c\"] == \"MAXIMIZE\""
   ]
  },
  {
   "cell_type": "code",
   "execution_count": null,
   "id": "713272b7",
   "metadata": {
    "ExecuteTime": {
     "end_time": "2023-10-27T16:46:04.544770800Z",
     "start_time": "2023-10-27T16:46:04.518770200Z"
    },
    "execution": {
     "iopub.execute_input": "2024-09-13T15:54:24.406554Z",
     "iopub.status.busy": "2024-09-13T15:54:24.406478Z",
     "iopub.status.idle": "2024-09-13T15:54:24.408554Z",
     "shell.execute_reply": "2024-09-13T15:54:24.408340Z"
    },
    "pycharm": {
     "name": "#%%\n"
    }
   },
   "outputs": [],
   "source": [
    "# json\n",
    "vocs.to_json()"
   ]
  },
  {
   "cell_type": "markdown",
   "id": "11167a85",
   "metadata": {
    "pycharm": {
     "name": "#%% md\n"
    }
   },
   "source": [
    "# Objective Evaluation"
   ]
  },
  {
   "cell_type": "code",
   "execution_count": null,
   "id": "c4d150be",
   "metadata": {
    "ExecuteTime": {
     "end_time": "2023-10-27T16:46:04.566771500Z",
     "start_time": "2023-10-27T16:46:04.534772500Z"
    },
    "execution": {
     "iopub.execute_input": "2024-09-13T15:54:24.409883Z",
     "iopub.status.busy": "2024-09-13T15:54:24.409801Z",
     "iopub.status.idle": "2024-09-13T15:54:24.416749Z",
     "shell.execute_reply": "2024-09-13T15:54:24.416537Z"
    },
    "pycharm": {
     "name": "#%%\n"
    }
   },
   "outputs": [],
   "source": [
    "data = pd.DataFrame(vocs.random_inputs(10))\n",
    "# Add some outputs\n",
    "data[\"c\"] = data[\"a\"] + data[\"b\"]\n",
    "data[\"d\"] = data[\"a\"] - data[\"b\"]\n",
    "data[\"e\"] = data[\"a\"] * 2 + data[\"b\"] * 2\n",
    "data[\"f\"] = data[\"a\"] * 2 - data[\"b\"] * 2\n",
    "data.index = np.arange(len(data)) + 5  # custom index\n",
    "data"
   ]
  },
  {
   "cell_type": "code",
   "execution_count": null,
   "id": "a695dc98",
   "metadata": {
    "ExecuteTime": {
     "end_time": "2023-10-27T16:46:04.604993200Z",
     "start_time": "2023-10-27T16:46:04.563770500Z"
    },
    "execution": {
     "iopub.execute_input": "2024-09-13T15:54:24.418098Z",
     "iopub.status.busy": "2024-09-13T15:54:24.418016Z",
     "iopub.status.idle": "2024-09-13T15:54:24.420079Z",
     "shell.execute_reply": "2024-09-13T15:54:24.419867Z"
    },
    "pycharm": {
     "name": "#%%\n"
    }
   },
   "outputs": [],
   "source": [
    "vocs.objectives"
   ]
  },
  {
   "cell_type": "code",
   "execution_count": null,
   "id": "43051b71",
   "metadata": {
    "ExecuteTime": {
     "end_time": "2023-10-27T16:46:04.635082700Z",
     "start_time": "2023-10-27T16:46:04.582806500Z"
    },
    "execution": {
     "iopub.execute_input": "2024-09-13T15:54:24.421354Z",
     "iopub.status.busy": "2024-09-13T15:54:24.421273Z",
     "iopub.status.idle": "2024-09-13T15:54:24.424690Z",
     "shell.execute_reply": "2024-09-13T15:54:24.424477Z"
    },
    "pycharm": {
     "name": "#%%\n"
    }
   },
   "outputs": [],
   "source": [
    "# These are in standard form for minimization\n",
    "form_objective_data(vocs.objectives, data)"
   ]
  },
  {
   "cell_type": "code",
   "execution_count": null,
   "id": "2ed50815",
   "metadata": {
    "ExecuteTime": {
     "end_time": "2023-10-27T16:46:04.635997800Z",
     "start_time": "2023-10-27T16:46:04.592809200Z"
    },
    "execution": {
     "iopub.execute_input": "2024-09-13T15:54:24.425955Z",
     "iopub.status.busy": "2024-09-13T15:54:24.425881Z",
     "iopub.status.idle": "2024-09-13T15:54:24.429058Z",
     "shell.execute_reply": "2024-09-13T15:54:24.428830Z"
    },
    "pycharm": {
     "name": "#%%\n"
    }
   },
   "outputs": [],
   "source": [
    "# This is also available as a method\n",
    "vocs.objective_data(data)"
   ]
  },
  {
   "cell_type": "code",
   "execution_count": null,
   "id": "9f4275d4",
   "metadata": {
    "ExecuteTime": {
     "end_time": "2023-10-27T16:46:04.665088600Z",
     "start_time": "2023-10-27T16:46:04.607996700Z"
    },
    "execution": {
     "iopub.execute_input": "2024-09-13T15:54:24.430318Z",
     "iopub.status.busy": "2024-09-13T15:54:24.430228Z",
     "iopub.status.idle": "2024-09-13T15:54:24.432664Z",
     "shell.execute_reply": "2024-09-13T15:54:24.432450Z"
    },
    "pycharm": {
     "name": "#%%\n"
    }
   },
   "outputs": [],
   "source": [
    "# use the to_numpy() method to convert for low level use.\n",
    "vocs.objective_data(data).to_numpy()"
   ]
  },
  {
   "cell_type": "code",
   "execution_count": null,
   "id": "29b73df4",
   "metadata": {
    "ExecuteTime": {
     "end_time": "2023-10-27T16:46:04.702034Z",
     "start_time": "2023-10-27T16:46:04.622998Z"
    },
    "execution": {
     "iopub.execute_input": "2024-09-13T15:54:24.433958Z",
     "iopub.status.busy": "2024-09-13T15:54:24.433875Z",
     "iopub.status.idle": "2024-09-13T15:54:24.437333Z",
     "shell.execute_reply": "2024-09-13T15:54:24.437135Z"
    },
    "pycharm": {
     "name": "#%%\n"
    }
   },
   "outputs": [],
   "source": [
    "vocs.constraint_data(data)"
   ]
  },
  {
   "cell_type": "code",
   "execution_count": null,
   "id": "e46a5e83",
   "metadata": {
    "ExecuteTime": {
     "end_time": "2023-10-27T16:46:04.703032900Z",
     "start_time": "2023-10-27T16:46:04.642000500Z"
    },
    "execution": {
     "iopub.execute_input": "2024-09-13T15:54:24.438649Z",
     "iopub.status.busy": "2024-09-13T15:54:24.438572Z",
     "iopub.status.idle": "2024-09-13T15:54:24.442669Z",
     "shell.execute_reply": "2024-09-13T15:54:24.442443Z"
    },
    "pycharm": {
     "name": "#%%\n"
    }
   },
   "outputs": [],
   "source": [
    "vocs.feasibility_data(data)"
   ]
  },
  {
   "cell_type": "code",
   "execution_count": null,
   "id": "c42dfa48",
   "metadata": {
    "ExecuteTime": {
     "end_time": "2023-10-27T16:46:04.703032900Z",
     "start_time": "2023-10-27T16:46:04.665088600Z"
    },
    "execution": {
     "iopub.execute_input": "2024-09-13T15:54:24.443972Z",
     "iopub.status.busy": "2024-09-13T15:54:24.443881Z",
     "iopub.status.idle": "2024-09-13T15:54:24.447077Z",
     "shell.execute_reply": "2024-09-13T15:54:24.446871Z"
    },
    "jupyter": {
     "outputs_hidden": false
    }
   },
   "outputs": [],
   "source": [
    "# normalize inputs to unit domain [0,1]\n",
    "normed_data = vocs.normalize_inputs(data)\n",
    "normed_data"
   ]
  },
  {
   "cell_type": "code",
   "execution_count": null,
   "id": "7364e86b",
   "metadata": {
    "execution": {
     "iopub.execute_input": "2024-09-13T15:54:24.448319Z",
     "iopub.status.busy": "2024-09-13T15:54:24.448238Z",
     "iopub.status.idle": "2024-09-13T15:54:24.451434Z",
     "shell.execute_reply": "2024-09-13T15:54:24.451213Z"
    },
    "jupyter": {
     "outputs_hidden": false
    }
   },
   "outputs": [],
   "source": [
    "# and denormalize\n",
    "vocs.denormalize_inputs(normed_data)"
   ]
  },
  {
   "cell_type": "markdown",
   "id": "59041be7",
   "metadata": {},
   "source": [
    "# Error handling"
   ]
  },
  {
   "cell_type": "code",
   "execution_count": null,
   "id": "f9171ede",
   "metadata": {
    "ExecuteTime": {
     "end_time": "2023-10-27T16:46:04.719064600Z",
     "start_time": "2023-10-27T16:46:04.668031Z"
    },
    "execution": {
     "iopub.execute_input": "2024-09-13T15:54:24.452750Z",
     "iopub.status.busy": "2024-09-13T15:54:24.452676Z",
     "iopub.status.idle": "2024-09-13T15:54:24.454842Z",
     "shell.execute_reply": "2024-09-13T15:54:24.454623Z"
    }
   },
   "outputs": [],
   "source": [
    "Y = \"\"\"\n",
    "variables:\n",
    "  a: [0, 1e3] # Note that 1e3 usually parses as a str with YAML. \n",
    "  b: [-1, 1]\n",
    "objectives:\n",
    "  c: maximize\n",
    "  d: minimize \n",
    "constraints:\n",
    "  e: ['Less_than', 2]\n",
    "  f: ['greater_than', 0]\n",
    "constants:\n",
    "  g: 1234\n",
    "\n",
    "\"\"\"\n",
    "\n",
    "vocs = VOCS.from_yaml(Y)"
   ]
  },
  {
   "cell_type": "code",
   "execution_count": null,
   "id": "b5513539",
   "metadata": {
    "ExecuteTime": {
     "end_time": "2023-10-27T16:46:04.763060700Z",
     "start_time": "2023-10-27T16:46:04.686996500Z"
    },
    "execution": {
     "iopub.execute_input": "2024-09-13T15:54:24.455998Z",
     "iopub.status.busy": "2024-09-13T15:54:24.455925Z",
     "iopub.status.idle": "2024-09-13T15:54:24.458659Z",
     "shell.execute_reply": "2024-09-13T15:54:24.458429Z"
    }
   },
   "outputs": [],
   "source": [
    "d = {\"a\": [1, 2, 3]}\n",
    "\n",
    "df = pd.DataFrame(d)\n",
    "df2 = pd.DataFrame(df).copy()\n",
    "\n",
    "df2[\"b\"] = np.nan\n",
    "df2[\"b\"] - 1"
   ]
  },
  {
   "cell_type": "code",
   "execution_count": null,
   "id": "30f3b3b4",
   "metadata": {
    "ExecuteTime": {
     "end_time": "2023-10-27T16:46:04.800032400Z",
     "start_time": "2023-10-27T16:46:04.698034700Z"
    },
    "execution": {
     "iopub.execute_input": "2024-09-13T15:54:24.459913Z",
     "iopub.status.busy": "2024-09-13T15:54:24.459836Z",
     "iopub.status.idle": "2024-09-13T15:54:24.461545Z",
     "shell.execute_reply": "2024-09-13T15:54:24.461348Z"
    }
   },
   "outputs": [],
   "source": [
    "data[\"a\"] = np.nan"
   ]
  },
  {
   "cell_type": "code",
   "execution_count": null,
   "id": "6393376b",
   "metadata": {
    "ExecuteTime": {
     "end_time": "2023-10-27T16:46:04.877099700Z",
     "start_time": "2023-10-27T16:46:04.715062Z"
    },
    "execution": {
     "iopub.execute_input": "2024-09-13T15:54:24.462904Z",
     "iopub.status.busy": "2024-09-13T15:54:24.462822Z",
     "iopub.status.idle": "2024-09-13T15:54:24.464843Z",
     "shell.execute_reply": "2024-09-13T15:54:24.464636Z"
    }
   },
   "outputs": [],
   "source": [
    "a = 2\n",
    "\n",
    "\n",
    "def f(x=a):\n",
    "    return x\n",
    "\n",
    "\n",
    "a = 99\n",
    "f()"
   ]
  },
  {
   "cell_type": "code",
   "execution_count": null,
   "id": "cb0ecd74",
   "metadata": {
    "ExecuteTime": {
     "end_time": "2023-10-27T16:46:04.880100300Z",
     "start_time": "2023-10-27T16:46:04.728063600Z"
    },
    "execution": {
     "iopub.execute_input": "2024-09-13T15:54:24.466048Z",
     "iopub.status.busy": "2024-09-13T15:54:24.465972Z",
     "iopub.status.idle": "2024-09-13T15:54:24.468950Z",
     "shell.execute_reply": "2024-09-13T15:54:24.468730Z"
    }
   },
   "outputs": [],
   "source": [
    "pd.DataFrame(6e66, index=[1, 2, 3], columns=[\"A\"])"
   ]
  },
  {
   "cell_type": "code",
   "execution_count": null,
   "id": "88bb8253",
   "metadata": {
    "ExecuteTime": {
     "end_time": "2023-10-27T16:46:04.896129200Z",
     "start_time": "2023-10-27T16:46:04.744036400Z"
    },
    "execution": {
     "iopub.execute_input": "2024-09-13T15:54:24.470167Z",
     "iopub.status.busy": "2024-09-13T15:54:24.470092Z",
     "iopub.status.idle": "2024-09-13T15:54:24.473523Z",
     "shell.execute_reply": "2024-09-13T15:54:24.473268Z"
    }
   },
   "outputs": [],
   "source": [
    "# These are in standard form for minimization\n",
    "\n",
    "data = pd.DataFrame({\"c\": [1, 2, 3, 4]}, index=[9, 3, 4, 5])\n",
    "\n",
    "form_objective_data(vocs.objectives, data)"
   ]
  }
 ],
 "metadata": {
  "interpreter": {
   "hash": "60703f99bc9a1e465ed9e894ac1e8f256837fa55699b4912a7939def4ae95691"
  },
  "kernelspec": {
   "display_name": "Python 3 (ipykernel)",
   "language": "python",
   "name": "python3"
  },
  "language_info": {
   "codemirror_mode": {
    "name": "ipython",
    "version": 3
   },
   "file_extension": ".py",
   "mimetype": "text/x-python",
   "name": "python",
   "nbconvert_exporter": "python",
   "pygments_lexer": "ipython3",
   "version": "3.12.6"
  }
 },
 "nbformat": 4,
 "nbformat_minor": 5
}
