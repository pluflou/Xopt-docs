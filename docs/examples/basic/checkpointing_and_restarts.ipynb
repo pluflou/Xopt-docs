{
 "cells": [
  {
   "cell_type": "markdown",
   "metadata": {
    "collapsed": false,
    "jupyter": {
     "outputs_hidden": false
    }
   },
   "source": [
    "# Checkpointing and Restarts\n",
    "If `dump_file` is provided Xopt will save the data and the Xopt configuration in a\n",
    "yaml file. This can be used directly to create a new Xopt object."
   ]
  },
  {
   "cell_type": "code",
   "execution_count": null,
   "metadata": {
    "ExecuteTime": {
     "end_time": "2024-05-03T19:55:02.557814300Z",
     "start_time": "2024-05-03T19:54:59.954542500Z"
    },
    "execution": {
     "iopub.execute_input": "2024-09-13T15:54:15.718571Z",
     "iopub.status.busy": "2024-09-13T15:54:15.718173Z",
     "iopub.status.idle": "2024-09-13T15:54:16.708491Z",
     "shell.execute_reply": "2024-09-13T15:54:16.708212Z"
    }
   },
   "outputs": [],
   "source": [
    "# Import the class\n",
    "from xopt import Xopt\n",
    "\n",
    "# Make a proper input file.\n",
    "YAML = \"\"\"\n",
    "dump_file: dump.yml\n",
    "generator:\n",
    "    name: random\n",
    "\n",
    "evaluator:\n",
    "    function: xopt.resources.test_functions.tnk.evaluate_TNK\n",
    "    function_kwargs:\n",
    "        a: 999\n",
    "\n",
    "vocs:\n",
    "    variables:\n",
    "        x1: [0, 3.14159]\n",
    "        x2: [0, 3.14159]\n",
    "    objectives: {y1: MINIMIZE, y2: MINIMIZE}\n",
    "    constraints:\n",
    "        c1: [GREATER_THAN, 0]\n",
    "        c2: [LESS_THAN, 0.5]\n",
    "    constants: {a: dummy_constant}\n",
    "\n",
    "\"\"\""
   ]
  },
  {
   "cell_type": "markdown",
   "metadata": {
    "collapsed": false,
    "jupyter": {
     "outputs_hidden": false
    }
   },
   "source": [
    "## Checkpoints\n",
    "Since we specified a dump file Xopt will dump the data and all of the options\n",
    "required to create a new Xopt object that continues the run."
   ]
  },
  {
   "cell_type": "code",
   "execution_count": null,
   "metadata": {
    "ExecuteTime": {
     "end_time": "2024-05-03T19:55:02.741844900Z",
     "start_time": "2024-05-03T19:55:02.558814400Z"
    },
    "execution": {
     "iopub.execute_input": "2024-09-13T15:54:16.710304Z",
     "iopub.status.busy": "2024-09-13T15:54:16.710154Z",
     "iopub.status.idle": "2024-09-13T15:54:16.754153Z",
     "shell.execute_reply": "2024-09-13T15:54:16.753777Z"
    }
   },
   "outputs": [],
   "source": [
    "# create Xopt object.\n",
    "X = Xopt.from_yaml(YAML)\n",
    "\n",
    "# take 10 steps and view data\n",
    "for _ in range(10):\n",
    "    X.step()\n",
    "\n",
    "X.data"
   ]
  },
  {
   "cell_type": "markdown",
   "metadata": {
    "collapsed": false,
    "jupyter": {
     "outputs_hidden": false
    }
   },
   "source": [
    "## Create Xopt object from dump file"
   ]
  },
  {
   "cell_type": "code",
   "execution_count": null,
   "metadata": {
    "ExecuteTime": {
     "end_time": "2024-05-03T19:55:02.813814500Z",
     "start_time": "2024-05-03T19:55:02.740817500Z"
    },
    "execution": {
     "iopub.execute_input": "2024-09-13T15:54:16.775975Z",
     "iopub.status.busy": "2024-09-13T15:54:16.775763Z",
     "iopub.status.idle": "2024-09-13T15:54:16.785072Z",
     "shell.execute_reply": "2024-09-13T15:54:16.784799Z"
    }
   },
   "outputs": [],
   "source": [
    "X2 = Xopt.from_file(\"dump.yml\")\n",
    "X2"
   ]
  },
  {
   "cell_type": "code",
   "execution_count": null,
   "metadata": {
    "ExecuteTime": {
     "end_time": "2024-05-03T19:55:02.946844800Z",
     "start_time": "2024-05-03T19:55:02.782814900Z"
    },
    "execution": {
     "iopub.execute_input": "2024-09-13T15:54:16.786507Z",
     "iopub.status.busy": "2024-09-13T15:54:16.786330Z",
     "iopub.status.idle": "2024-09-13T15:54:16.842388Z",
     "shell.execute_reply": "2024-09-13T15:54:16.842111Z"
    }
   },
   "outputs": [],
   "source": [
    "for _ in range(10):\n",
    "    X2.step()\n",
    "\n",
    "X2.data"
   ]
  }
 ],
 "metadata": {
  "kernelspec": {
   "display_name": "Python 3 (ipykernel)",
   "language": "python",
   "name": "python3"
  },
  "language_info": {
   "codemirror_mode": {
    "name": "ipython",
    "version": 3
   },
   "file_extension": ".py",
   "mimetype": "text/x-python",
   "name": "python",
   "nbconvert_exporter": "python",
   "pygments_lexer": "ipython3",
   "version": "3.12.6"
  }
 },
 "nbformat": 4,
 "nbformat_minor": 4
}
