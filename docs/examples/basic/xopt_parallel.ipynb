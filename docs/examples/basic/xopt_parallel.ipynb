{
 "cells": [
  {
   "cell_type": "markdown",
   "metadata": {
    "pycharm": {
     "name": "#%% md\n"
    }
   },
   "source": [
    "# Xopt Parallel Examples\n",
    "\n",
    "Xopt provides methods to parallelize optimizations using Processes, Threads, MPI, and Dask using the `concurrent.futures` interface as defined in  https://www.python.org/dev/peps/pep-3148/ ."
   ]
  },
  {
   "cell_type": "code",
   "execution_count": null,
   "metadata": {
    "execution": {
     "iopub.execute_input": "2024-09-13T15:51:11.807711Z",
     "iopub.status.busy": "2024-09-13T15:51:11.807234Z",
     "iopub.status.idle": "2024-09-13T15:51:12.733177Z",
     "shell.execute_reply": "2024-09-13T15:51:12.732871Z"
    }
   },
   "outputs": [],
   "source": [
    "from xopt import AsynchronousXopt as Xopt"
   ]
  },
  {
   "cell_type": "code",
   "execution_count": null,
   "metadata": {
    "execution": {
     "iopub.execute_input": "2024-09-13T15:51:12.734939Z",
     "iopub.status.busy": "2024-09-13T15:51:12.734819Z",
     "iopub.status.idle": "2024-09-13T15:51:13.118957Z",
     "shell.execute_reply": "2024-09-13T15:51:13.118649Z"
    },
    "pycharm": {
     "name": "#%%\n"
    }
   },
   "outputs": [],
   "source": [
    "# Helpers for this notebook\n",
    "import multiprocessing\n",
    "from concurrent.futures import ProcessPoolExecutor\n",
    "from dask.distributed import Client\n",
    "\n",
    "import matplotlib.pyplot as plt\n",
    "\n",
    "import pandas as pd\n",
    "from concurrent.futures import ThreadPoolExecutor\n",
    "\n",
    "import os\n",
    "\n",
    "\n",
    "# Notebook printing output\n",
    "# from xopt import output_notebook\n",
    "# output_notebook()\n",
    "\n",
    "N_CPUS = multiprocessing.cpu_count()\n",
    "N_CPUS\n",
    "\n",
    "# directory for data.\n",
    "os.makedirs(\"temp\", exist_ok=True)"
   ]
  },
  {
   "cell_type": "markdown",
   "metadata": {
    "pycharm": {
     "name": "#%% md\n"
    }
   },
   "source": [
    "The `Xopt` object can be instantiated from a JSON or YAML file, or a dict, with the proper structure.\n",
    "\n",
    "Here we will make one"
   ]
  },
  {
   "cell_type": "code",
   "execution_count": null,
   "metadata": {
    "execution": {
     "iopub.execute_input": "2024-09-13T15:51:13.120880Z",
     "iopub.status.busy": "2024-09-13T15:51:13.120673Z",
     "iopub.status.idle": "2024-09-13T15:51:13.139851Z",
     "shell.execute_reply": "2024-09-13T15:51:13.139601Z"
    },
    "pycharm": {
     "name": "#%%\n"
    }
   },
   "outputs": [],
   "source": [
    "# Make a proper input file.\n",
    "YAML = \"\"\"\n",
    "\n",
    "max_evaluations: 1000\n",
    "\n",
    "generator:\n",
    "  name: cnsga\n",
    "  output_path: temp\n",
    "  population_size:  64\n",
    "  \n",
    "evaluator:\n",
    "  function: xopt.resources.test_functions.tnk.evaluate_TNK\n",
    "  function_kwargs:\n",
    "    sleep: 0\n",
    "    random_sleep: 0.1\n",
    "  \n",
    "vocs:\n",
    "  variables:\n",
    "    x1: [0, 3.14159]\n",
    "    x2: [0, 3.14159]\n",
    "  objectives: {y1: MINIMIZE, y2: MINIMIZE}\n",
    "  constraints:\n",
    "    c1: [GREATER_THAN, 0]\n",
    "    c2: [LESS_THAN, 0.5]\n",
    "  constants: {a: dummy_constant}\n",
    "\n",
    "\"\"\"\n",
    "X = Xopt(YAML)\n",
    "X"
   ]
  },
  {
   "cell_type": "code",
   "execution_count": null,
   "metadata": {
    "execution": {
     "iopub.execute_input": "2024-09-13T15:51:13.160584Z",
     "iopub.status.busy": "2024-09-13T15:51:13.160437Z",
     "iopub.status.idle": "2024-09-13T15:51:21.136857Z",
     "shell.execute_reply": "2024-09-13T15:51:21.135973Z"
    },
    "pycharm": {
     "name": "#%%\n"
    }
   },
   "outputs": [],
   "source": [
    "%%timeit\n",
    "# Check that the average time is close to random_sleep\n",
    "X.evaluator.function({\"x1\": 0.5, \"x2\": 0.5}, random_sleep=0.1)"
   ]
  },
  {
   "cell_type": "code",
   "execution_count": null,
   "metadata": {
    "execution": {
     "iopub.execute_input": "2024-09-13T15:51:21.140796Z",
     "iopub.status.busy": "2024-09-13T15:51:21.140489Z",
     "iopub.status.idle": "2024-09-13T15:53:14.801654Z",
     "shell.execute_reply": "2024-09-13T15:53:14.801083Z"
    },
    "pycharm": {
     "name": "#%%\n"
    }
   },
   "outputs": [],
   "source": [
    "%%time\n",
    "X.run()"
   ]
  },
  {
   "cell_type": "markdown",
   "metadata": {
    "pycharm": {
     "name": "#%% md\n"
    }
   },
   "source": [
    "# Processes"
   ]
  },
  {
   "cell_type": "code",
   "execution_count": null,
   "metadata": {
    "execution": {
     "iopub.execute_input": "2024-09-13T15:53:14.805616Z",
     "iopub.status.busy": "2024-09-13T15:53:14.805006Z",
     "iopub.status.idle": "2024-09-13T15:53:28.075142Z",
     "shell.execute_reply": "2024-09-13T15:53:28.074868Z"
    },
    "pycharm": {
     "name": "#%%\n"
    }
   },
   "outputs": [],
   "source": [
    "%%time\n",
    "X = Xopt(YAML)\n",
    "\n",
    "with ProcessPoolExecutor(max_workers=N_CPUS) as executor:\n",
    "    X.evaluator.executor = executor\n",
    "    X.evaluator.max_workers = N_CPUS\n",
    "    X.run()\n",
    "len(X.data)"
   ]
  },
  {
   "cell_type": "markdown",
   "metadata": {
    "pycharm": {
     "name": "#%% md\n"
    }
   },
   "source": [
    "# Threads\n",
    "\n",
    "Continue running, this time with threads."
   ]
  },
  {
   "cell_type": "code",
   "execution_count": null,
   "metadata": {
    "execution": {
     "iopub.execute_input": "2024-09-13T15:53:28.076716Z",
     "iopub.status.busy": "2024-09-13T15:53:28.076594Z",
     "iopub.status.idle": "2024-09-13T15:53:38.985622Z",
     "shell.execute_reply": "2024-09-13T15:53:38.984858Z"
    },
    "pycharm": {
     "name": "#%%\n"
    }
   },
   "outputs": [],
   "source": [
    "%%time\n",
    "X = Xopt(YAML)\n",
    "\n",
    "with ThreadPoolExecutor(max_workers=N_CPUS) as executor:\n",
    "    X.evaluator.executor = executor\n",
    "    X.evaluator.max_workers = N_CPUS\n",
    "    X.run()\n",
    "len(X.data)"
   ]
  },
  {
   "cell_type": "markdown",
   "metadata": {
    "pycharm": {
     "name": "#%% md\n"
    }
   },
   "source": [
    "# MPI \n",
    "\n",
    "The `test.yaml` file completely defines the problem. We will also direct the logging to an `xopt.log` file. The following invocation recruits 4 MPI workers to solve this problem.\n",
    "\n",
    "We can also continue by calling `.save` with a JSON filename. This will write all of previous results into the file."
   ]
  },
  {
   "cell_type": "code",
   "execution_count": null,
   "metadata": {
    "execution": {
     "iopub.execute_input": "2024-09-13T15:53:38.989702Z",
     "iopub.status.busy": "2024-09-13T15:53:38.989391Z",
     "iopub.status.idle": "2024-09-13T15:53:39.159372Z",
     "shell.execute_reply": "2024-09-13T15:53:39.158752Z"
    },
    "pycharm": {
     "name": "#%%\n"
    }
   },
   "outputs": [],
   "source": [
    "X = Xopt(YAML)\n",
    "X.dump(\"test.yaml\")  # Write this input to file\n",
    "!cat test.yaml"
   ]
  },
  {
   "cell_type": "code",
   "execution_count": null,
   "metadata": {
    "execution": {
     "iopub.execute_input": "2024-09-13T15:53:39.162178Z",
     "iopub.status.busy": "2024-09-13T15:53:39.161823Z",
     "iopub.status.idle": "2024-09-13T15:53:57.496664Z",
     "shell.execute_reply": "2024-09-13T15:53:57.496156Z"
    }
   },
   "outputs": [],
   "source": [
    "%%time\n",
    "!mpirun -n 8 python -m mpi4py.futures -m xopt.mpi.run -vv --logfile xopt.log test.yaml"
   ]
  },
  {
   "cell_type": "code",
   "execution_count": null,
   "metadata": {
    "execution": {
     "iopub.execute_input": "2024-09-13T15:53:57.499178Z",
     "iopub.status.busy": "2024-09-13T15:53:57.498874Z",
     "iopub.status.idle": "2024-09-13T15:53:57.624811Z",
     "shell.execute_reply": "2024-09-13T15:53:57.624262Z"
    },
    "pycharm": {
     "name": "#%%\n"
    }
   },
   "outputs": [],
   "source": [
    "!tail xopt.log"
   ]
  },
  {
   "cell_type": "markdown",
   "metadata": {
    "pycharm": {
     "name": "#%% md\n"
    }
   },
   "source": [
    "# Dask\n",
    "\n"
   ]
  },
  {
   "cell_type": "code",
   "execution_count": null,
   "metadata": {
    "execution": {
     "iopub.execute_input": "2024-09-13T15:53:57.627616Z",
     "iopub.status.busy": "2024-09-13T15:53:57.627365Z",
     "iopub.status.idle": "2024-09-13T15:53:58.571020Z",
     "shell.execute_reply": "2024-09-13T15:53:58.570726Z"
    },
    "pycharm": {
     "name": "#%%\n"
    }
   },
   "outputs": [],
   "source": [
    "client = Client()\n",
    "executor = client.get_executor()\n",
    "client"
   ]
  },
  {
   "cell_type": "code",
   "execution_count": null,
   "metadata": {
    "execution": {
     "iopub.execute_input": "2024-09-13T15:53:58.572623Z",
     "iopub.status.busy": "2024-09-13T15:53:58.572506Z",
     "iopub.status.idle": "2024-09-13T15:54:10.653783Z",
     "shell.execute_reply": "2024-09-13T15:54:10.653398Z"
    },
    "pycharm": {
     "name": "#%%\n"
    }
   },
   "outputs": [],
   "source": [
    "%%time\n",
    "X = Xopt(YAML)\n",
    "X.evaluator.executor = executor\n",
    "X.evaluator.max_workers = N_CPUS\n",
    "X.run()\n",
    "len(X.data)"
   ]
  },
  {
   "cell_type": "markdown",
   "metadata": {
    "pycharm": {
     "name": "#%% md\n"
    }
   },
   "source": [
    "# Load output into Pandas\n",
    "\n",
    "This algorithm writes two types of files: `gen_{i}.json` with all of the new individuals evaluated in a generation, and `pop_{i}.json` with the latest best population. Xopt provides some functions to load these easily into a Pandas dataframe for further analysis."
   ]
  },
  {
   "cell_type": "code",
   "execution_count": null,
   "metadata": {
    "execution": {
     "iopub.execute_input": "2024-09-13T15:54:10.655270Z",
     "iopub.status.busy": "2024-09-13T15:54:10.655159Z",
     "iopub.status.idle": "2024-09-13T15:54:10.661233Z",
     "shell.execute_reply": "2024-09-13T15:54:10.660968Z"
    },
    "pycharm": {
     "name": "#%%\n"
    }
   },
   "outputs": [],
   "source": [
    "X.data"
   ]
  },
  {
   "cell_type": "code",
   "execution_count": null,
   "metadata": {
    "execution": {
     "iopub.execute_input": "2024-09-13T15:54:10.662656Z",
     "iopub.status.busy": "2024-09-13T15:54:10.662565Z",
     "iopub.status.idle": "2024-09-13T15:54:10.669875Z",
     "shell.execute_reply": "2024-09-13T15:54:10.669649Z"
    },
    "pycharm": {
     "name": "#%%\n"
    }
   },
   "outputs": [],
   "source": [
    "df = pd.concat([X.data, X.vocs.feasibility_data(X.data)], axis=1)\n",
    "df[df[\"feasible\"]]"
   ]
  },
  {
   "cell_type": "code",
   "execution_count": null,
   "metadata": {
    "execution": {
     "iopub.execute_input": "2024-09-13T15:54:10.671305Z",
     "iopub.status.busy": "2024-09-13T15:54:10.671199Z",
     "iopub.status.idle": "2024-09-13T15:54:10.757506Z",
     "shell.execute_reply": "2024-09-13T15:54:10.757195Z"
    },
    "pycharm": {
     "name": "#%%\n"
    }
   },
   "outputs": [],
   "source": [
    "# Plot the feasible ones\n",
    "feasible_df = df[df[\"feasible\"]]\n",
    "feasible_df.plot(\"y1\", \"y2\", kind=\"scatter\").set_aspect(\"equal\")"
   ]
  },
  {
   "cell_type": "code",
   "execution_count": null,
   "metadata": {
    "execution": {
     "iopub.execute_input": "2024-09-13T15:54:10.759331Z",
     "iopub.status.busy": "2024-09-13T15:54:10.759013Z",
     "iopub.status.idle": "2024-09-13T15:54:10.836037Z",
     "shell.execute_reply": "2024-09-13T15:54:10.835773Z"
    },
    "pycharm": {
     "name": "#%%\n"
    }
   },
   "outputs": [],
   "source": [
    "# Plot the infeasible ones\n",
    "infeasible_df = df[~df[\"feasible\"]]\n",
    "infeasible_df.plot(\"y1\", \"y2\", kind=\"scatter\").set_aspect(\"equal\")"
   ]
  },
  {
   "cell_type": "code",
   "execution_count": null,
   "metadata": {
    "execution": {
     "iopub.execute_input": "2024-09-13T15:54:10.837514Z",
     "iopub.status.busy": "2024-09-13T15:54:10.837401Z",
     "iopub.status.idle": "2024-09-13T15:54:10.896641Z",
     "shell.execute_reply": "2024-09-13T15:54:10.896380Z"
    },
    "pycharm": {
     "name": "#%%\n"
    }
   },
   "outputs": [],
   "source": [
    "# This is the final population\n",
    "df1 = X.generator.population\n",
    "df1.plot(\"y1\", \"y2\", kind=\"scatter\").set_aspect(\"equal\")"
   ]
  },
  {
   "cell_type": "markdown",
   "metadata": {
    "pycharm": {
     "name": "#%% md\n"
    }
   },
   "source": [
    "# matplotlib plotting\n",
    "\n",
    "You can always use matplotlib for customizable plotting"
   ]
  },
  {
   "cell_type": "code",
   "execution_count": null,
   "metadata": {
    "execution": {
     "iopub.execute_input": "2024-09-13T15:54:10.898215Z",
     "iopub.status.busy": "2024-09-13T15:54:10.898106Z",
     "iopub.status.idle": "2024-09-13T15:54:11.030543Z",
     "shell.execute_reply": "2024-09-13T15:54:11.030209Z"
    },
    "pycharm": {
     "name": "#%%\n"
    }
   },
   "outputs": [],
   "source": [
    "# Extract objectives from output\n",
    "k1, k2 = \"y1\", \"y2\"\n",
    "\n",
    "fig, ax = plt.subplots(figsize=(6, 6))\n",
    "\n",
    "ax.scatter(\n",
    "    infeasible_df[k1],\n",
    "    infeasible_df[k2],\n",
    "    color=\"blue\",\n",
    "    marker=\".\",\n",
    "    alpha=0.5,\n",
    "    label=\"infeasible\",\n",
    ")\n",
    "ax.scatter(\n",
    "    feasible_df[k1], feasible_df[k2], color=\"orange\", marker=\".\", label=\"feasible\"\n",
    ")\n",
    "ax.scatter(df1[k1], df1[k2], color=\"red\", marker=\".\", label=\"final population\")\n",
    "ax.set_xlabel(k1)\n",
    "ax.set_ylabel(k2)\n",
    "ax.set_aspect(\"auto\")\n",
    "ax.set_title(\"Xopt's CNSGA algorithm\")\n",
    "plt.legend()"
   ]
  },
  {
   "cell_type": "code",
   "execution_count": null,
   "metadata": {
    "execution": {
     "iopub.execute_input": "2024-09-13T15:54:11.032351Z",
     "iopub.status.busy": "2024-09-13T15:54:11.032009Z",
     "iopub.status.idle": "2024-09-13T15:54:11.405742Z",
     "shell.execute_reply": "2024-09-13T15:54:11.405356Z"
    },
    "pycharm": {
     "name": "#%%\n"
    }
   },
   "outputs": [],
   "source": [
    "# Cleanup\n",
    "#!rm -r dask-worker-space\n",
    "!rm -r temp\n",
    "!rm xopt.log*\n",
    "!rm test.yaml"
   ]
  }
 ],
 "metadata": {
  "kernelspec": {
   "display_name": "Python 3 (ipykernel)",
   "language": "python",
   "name": "python3"
  },
  "language_info": {
   "codemirror_mode": {
    "name": "ipython",
    "version": 3
   },
   "file_extension": ".py",
   "mimetype": "text/x-python",
   "name": "python",
   "nbconvert_exporter": "python",
   "pygments_lexer": "ipython3",
   "version": "3.12.6"
  },
  "vscode": {
   "interpreter": {
    "hash": "4483d4964800812ebc77892a92dde3b54705ec8a224d63d9bb659e2cc457018b"
   }
  }
 },
 "nbformat": 4,
 "nbformat_minor": 4
}
