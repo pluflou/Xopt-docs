{
 "cells": [
  {
   "cell_type": "markdown",
   "metadata": {},
   "source": [
    "# Xopt Evaluator Basic Usage \n",
    "\n",
    "The `Evaluator` handles the execution of the user-provided `function` with optional `function_kwags`, asyncrhonously and parallel, with exception handling. "
   ]
  },
  {
   "cell_type": "code",
   "execution_count": null,
   "metadata": {
    "ExecuteTime": {
     "end_time": "2023-09-08T21:35:16.928260600Z",
     "start_time": "2023-09-08T21:35:16.919590900Z"
    },
    "execution": {
     "iopub.execute_input": "2024-09-13T15:54:26.524566Z",
     "iopub.status.busy": "2024-09-13T15:54:26.524282Z",
     "iopub.status.idle": "2024-09-13T15:54:27.553451Z",
     "shell.execute_reply": "2024-09-13T15:54:27.553023Z"
    }
   },
   "outputs": [],
   "source": [
    "from xopt import Xopt, Evaluator, VOCS\n",
    "from xopt.generators.random import RandomGenerator\n",
    "\n",
    "# Usage with a parallel executor.\n",
    "from xopt import AsynchronousXopt\n",
    "\n",
    "import pandas as pd\n",
    "\n",
    "from time import sleep\n",
    "from numpy.random import randint\n",
    "\n",
    "from typing import Dict\n",
    "\n",
    "import numpy as np\n",
    "\n",
    "from concurrent.futures import ProcessPoolExecutor\n",
    "\n",
    "# needed for macos\n",
    "import platform\n",
    "\n",
    "if platform.system() == \"Darwin\":\n",
    "    import multiprocessing\n",
    "\n",
    "    multiprocessing.set_start_method(\"fork\")"
   ]
  },
  {
   "cell_type": "code",
   "execution_count": null,
   "metadata": {
    "ExecuteTime": {
     "end_time": "2023-09-08T21:35:32.309828Z",
     "start_time": "2023-09-08T21:35:16.928260600Z"
    },
    "execution": {
     "iopub.execute_input": "2024-09-13T15:54:27.555306Z",
     "iopub.status.busy": "2024-09-13T15:54:27.555168Z",
     "iopub.status.idle": "2024-09-13T15:54:27.556849Z",
     "shell.execute_reply": "2024-09-13T15:54:27.556651Z"
    }
   },
   "outputs": [],
   "source": [
    "np.random.seed(666)  # for reproducibility"
   ]
  },
  {
   "cell_type": "markdown",
   "metadata": {},
   "source": [
    "Define a custom function `f(inputs: Dict) -> outputs: Dict`. "
   ]
  },
  {
   "cell_type": "code",
   "execution_count": null,
   "metadata": {
    "ExecuteTime": {
     "end_time": "2023-09-08T21:35:32.324561500Z",
     "start_time": "2023-09-08T21:35:32.311827800Z"
    },
    "execution": {
     "iopub.execute_input": "2024-09-13T15:54:27.558136Z",
     "iopub.status.busy": "2024-09-13T15:54:27.558062Z",
     "iopub.status.idle": "2024-09-13T15:54:27.560087Z",
     "shell.execute_reply": "2024-09-13T15:54:27.559863Z"
    }
   },
   "outputs": [],
   "source": [
    "def f(inputs: Dict, enable_errors=True) -> Dict:\n",
    "    sleep(randint(1, 5) * 0.1)  # simulate computation time\n",
    "    # Make some occasional errors\n",
    "    if enable_errors and np.any(inputs[\"x\"] > 0.8):\n",
    "        raise ValueError(\"x > 0.8\")\n",
    "\n",
    "    return {\"f1\": inputs[\"x\"] ** 2 + inputs[\"y\"] ** 2}"
   ]
  },
  {
   "cell_type": "markdown",
   "metadata": {},
   "source": [
    "Define variables, objectives, constraints, and other settings (VOCS)"
   ]
  },
  {
   "cell_type": "code",
   "execution_count": null,
   "metadata": {
    "ExecuteTime": {
     "end_time": "2023-09-08T21:35:32.368050300Z",
     "start_time": "2023-09-08T21:35:32.328590900Z"
    },
    "execution": {
     "iopub.execute_input": "2024-09-13T15:54:27.561752Z",
     "iopub.status.busy": "2024-09-13T15:54:27.561657Z",
     "iopub.status.idle": "2024-09-13T15:54:27.564957Z",
     "shell.execute_reply": "2024-09-13T15:54:27.564762Z"
    }
   },
   "outputs": [],
   "source": [
    "vocs = VOCS(variables={\"x\": [0, 1], \"y\": [0, 1]}, objectives={\"f1\": \"MINIMIZE\"})\n",
    "vocs"
   ]
  },
  {
   "cell_type": "markdown",
   "metadata": {},
   "source": [
    "This can be used to make some random inputs for evaluating the function. "
   ]
  },
  {
   "cell_type": "code",
   "execution_count": null,
   "metadata": {
    "ExecuteTime": {
     "end_time": "2023-09-08T21:35:32.676437500Z",
     "start_time": "2023-09-08T21:35:32.340456300Z"
    },
    "execution": {
     "iopub.execute_input": "2024-09-13T15:54:27.586881Z",
     "iopub.status.busy": "2024-09-13T15:54:27.586726Z",
     "iopub.status.idle": "2024-09-13T15:54:27.893588Z",
     "shell.execute_reply": "2024-09-13T15:54:27.893264Z"
    }
   },
   "outputs": [],
   "source": [
    "in1 = vocs.random_inputs()[0]\n",
    "\n",
    "f(in1, enable_errors=False)"
   ]
  },
  {
   "cell_type": "code",
   "execution_count": null,
   "metadata": {
    "ExecuteTime": {
     "end_time": "2023-09-08T21:35:33.005111700Z",
     "start_time": "2023-09-08T21:35:32.681546900Z"
    },
    "execution": {
     "iopub.execute_input": "2024-09-13T15:54:27.895291Z",
     "iopub.status.busy": "2024-09-13T15:54:27.895153Z",
     "iopub.status.idle": "2024-09-13T15:54:28.206981Z",
     "shell.execute_reply": "2024-09-13T15:54:28.206227Z"
    }
   },
   "outputs": [],
   "source": [
    "# Add in occasional errors.\n",
    "try:\n",
    "    f({\"x\": 1, \"y\": 0})\n",
    "except Exception as ex:\n",
    "    print(f\"Caught error in f: {ex}\")"
   ]
  },
  {
   "cell_type": "code",
   "execution_count": null,
   "metadata": {
    "ExecuteTime": {
     "end_time": "2023-09-08T21:35:33.049056200Z",
     "start_time": "2023-09-08T21:35:33.006111Z"
    },
    "execution": {
     "iopub.execute_input": "2024-09-13T15:54:28.211066Z",
     "iopub.status.busy": "2024-09-13T15:54:28.210530Z",
     "iopub.status.idle": "2024-09-13T15:54:28.220673Z",
     "shell.execute_reply": "2024-09-13T15:54:28.220185Z"
    }
   },
   "outputs": [],
   "source": [
    "# Create Evaluator\n",
    "ev = Evaluator(function=f)"
   ]
  },
  {
   "cell_type": "code",
   "execution_count": null,
   "metadata": {
    "ExecuteTime": {
     "end_time": "2023-09-08T21:35:33.252318Z",
     "start_time": "2023-09-08T21:35:33.021667400Z"
    },
    "execution": {
     "iopub.execute_input": "2024-09-13T15:54:28.223163Z",
     "iopub.status.busy": "2024-09-13T15:54:28.222977Z",
     "iopub.status.idle": "2024-09-13T15:54:28.435669Z",
     "shell.execute_reply": "2024-09-13T15:54:28.435086Z"
    }
   },
   "outputs": [],
   "source": [
    "# Single input evaluation\n",
    "ev.evaluate(in1)"
   ]
  },
  {
   "cell_type": "code",
   "execution_count": null,
   "metadata": {
    "ExecuteTime": {
     "end_time": "2023-09-08T21:35:35.961577400Z",
     "start_time": "2023-09-08T21:35:33.250319900Z"
    },
    "execution": {
     "iopub.execute_input": "2024-09-13T15:54:28.438836Z",
     "iopub.status.busy": "2024-09-13T15:54:28.438558Z",
     "iopub.status.idle": "2024-09-13T15:54:31.093684Z",
     "shell.execute_reply": "2024-09-13T15:54:31.093111Z"
    }
   },
   "outputs": [],
   "source": [
    "# Dataframe evaluation\n",
    "in10 = pd.DataFrame({\"x\": np.linspace(0, 1, 10), \"y\": np.linspace(0, 1, 10)})\n",
    "ev.evaluate_data(in10)"
   ]
  },
  {
   "cell_type": "code",
   "execution_count": null,
   "metadata": {
    "ExecuteTime": {
     "end_time": "2023-09-08T21:35:36.188682500Z",
     "start_time": "2023-09-08T21:35:35.964575800Z"
    },
    "execution": {
     "iopub.execute_input": "2024-09-13T15:54:31.097149Z",
     "iopub.status.busy": "2024-09-13T15:54:31.096920Z",
     "iopub.status.idle": "2024-09-13T15:54:31.311399Z",
     "shell.execute_reply": "2024-09-13T15:54:31.310884Z"
    }
   },
   "outputs": [],
   "source": [
    "# Dataframe evaluation, vectorized\n",
    "ev.vectorized = True\n",
    "ev.evaluate_data(in10)"
   ]
  },
  {
   "cell_type": "markdown",
   "metadata": {},
   "source": [
    "# Executors"
   ]
  },
  {
   "cell_type": "code",
   "execution_count": null,
   "metadata": {
    "ExecuteTime": {
     "end_time": "2023-09-08T21:35:36.210825800Z",
     "start_time": "2023-09-08T21:35:36.189682300Z"
    },
    "execution": {
     "iopub.execute_input": "2024-09-13T15:54:31.314542Z",
     "iopub.status.busy": "2024-09-13T15:54:31.314152Z",
     "iopub.status.idle": "2024-09-13T15:54:31.316966Z",
     "shell.execute_reply": "2024-09-13T15:54:31.316499Z"
    }
   },
   "outputs": [],
   "source": [
    "MAX_WORKERS = 10"
   ]
  },
  {
   "cell_type": "code",
   "execution_count": null,
   "metadata": {
    "ExecuteTime": {
     "end_time": "2023-09-08T21:35:36.277827Z",
     "start_time": "2023-09-08T21:35:36.205828Z"
    },
    "execution": {
     "iopub.execute_input": "2024-09-13T15:54:31.319258Z",
     "iopub.status.busy": "2024-09-13T15:54:31.319060Z",
     "iopub.status.idle": "2024-09-13T15:54:31.323973Z",
     "shell.execute_reply": "2024-09-13T15:54:31.323589Z"
    }
   },
   "outputs": [],
   "source": [
    "# Create Executor instance\n",
    "executor = ProcessPoolExecutor(max_workers=MAX_WORKERS)\n",
    "executor"
   ]
  },
  {
   "cell_type": "code",
   "execution_count": null,
   "metadata": {
    "ExecuteTime": {
     "end_time": "2023-09-08T21:35:36.336827600Z",
     "start_time": "2023-09-08T21:35:36.219826200Z"
    },
    "execution": {
     "iopub.execute_input": "2024-09-13T15:54:31.326164Z",
     "iopub.status.busy": "2024-09-13T15:54:31.326004Z",
     "iopub.status.idle": "2024-09-13T15:54:31.327802Z",
     "shell.execute_reply": "2024-09-13T15:54:31.327526Z"
    }
   },
   "outputs": [],
   "source": [
    "# Dask (Optional)\n",
    "# from dask.distributed import Client\n",
    "# import logging\n",
    "# client = Client( silence_logs=logging.ERROR)\n",
    "# executor = client.get_executor()\n",
    "# client"
   ]
  },
  {
   "cell_type": "code",
   "execution_count": null,
   "metadata": {
    "ExecuteTime": {
     "end_time": "2023-09-08T21:35:36.340830Z",
     "start_time": "2023-09-08T21:35:36.246825700Z"
    },
    "execution": {
     "iopub.execute_input": "2024-09-13T15:54:31.329751Z",
     "iopub.status.busy": "2024-09-13T15:54:31.329593Z",
     "iopub.status.idle": "2024-09-13T15:54:31.336762Z",
     "shell.execute_reply": "2024-09-13T15:54:31.336461Z"
    }
   },
   "outputs": [],
   "source": [
    "# This calls `executor.map`\n",
    "ev = Evaluator(function=f, executor=executor, max_workers=MAX_WORKERS)"
   ]
  },
  {
   "cell_type": "code",
   "execution_count": null,
   "metadata": {
    "ExecuteTime": {
     "end_time": "2023-09-08T21:35:42.832826300Z",
     "start_time": "2023-09-08T21:35:36.250828900Z"
    },
    "execution": {
     "iopub.execute_input": "2024-09-13T15:54:31.338377Z",
     "iopub.status.busy": "2024-09-13T15:54:31.338268Z",
     "iopub.status.idle": "2024-09-13T15:54:31.794548Z",
     "shell.execute_reply": "2024-09-13T15:54:31.793918Z"
    }
   },
   "outputs": [],
   "source": [
    "# This will run in parallel\n",
    "ev.evaluate_data(in10)"
   ]
  },
  {
   "cell_type": "markdown",
   "metadata": {},
   "source": [
    "# Evaluator in the Xopt object"
   ]
  },
  {
   "cell_type": "code",
   "execution_count": null,
   "metadata": {
    "ExecuteTime": {
     "end_time": "2023-09-08T21:35:49.453947100Z",
     "start_time": "2023-09-08T21:35:48.973424600Z"
    },
    "execution": {
     "iopub.execute_input": "2024-09-13T15:54:31.797478Z",
     "iopub.status.busy": "2024-09-13T15:54:31.797291Z",
     "iopub.status.idle": "2024-09-13T15:54:32.225792Z",
     "shell.execute_reply": "2024-09-13T15:54:32.225518Z"
    }
   },
   "outputs": [],
   "source": [
    "X = Xopt(\n",
    "    generator=RandomGenerator(vocs=vocs), evaluator=Evaluator(function=f), vocs=vocs\n",
    ")\n",
    "X.strict = False\n",
    "\n",
    "# Evaluate to the evaluator some new inputs\n",
    "X.evaluate_data(X.vocs.random_inputs(4))"
   ]
  },
  {
   "cell_type": "markdown",
   "metadata": {
    "collapsed": false,
    "jupyter": {
     "outputs_hidden": false
    }
   },
   "source": [
    "## Asynchronous Xopt\n",
    "Instead of waiting for evaluations to be finished, AsynchronousXopt can be used to generate candidates while waiting for other evaluations to finish (requires parallel execution). In this case, calling ```X.step()``` generates and executes a number of candidates that are executed in parallel using python ```concurrent.futures``` formalism. Calling ```X.step()``` again will generate and evaluate new points based on finished futures asynchronously."
   ]
  },
  {
   "cell_type": "code",
   "execution_count": null,
   "metadata": {
    "ExecuteTime": {
     "end_time": "2023-09-08T21:35:50.776098900Z",
     "start_time": "2023-09-08T21:35:50.753057600Z"
    },
    "execution": {
     "iopub.execute_input": "2024-09-13T15:54:32.227332Z",
     "iopub.status.busy": "2024-09-13T15:54:32.227223Z",
     "iopub.status.idle": "2024-09-13T15:54:32.231134Z",
     "shell.execute_reply": "2024-09-13T15:54:32.230814Z"
    }
   },
   "outputs": [],
   "source": [
    "executor = ProcessPoolExecutor(max_workers=MAX_WORKERS)\n",
    "\n",
    "X2 = AsynchronousXopt(\n",
    "    generator=RandomGenerator(vocs=vocs),\n",
    "    evaluator=Evaluator(function=f, executor=executor, max_workers=MAX_WORKERS),\n",
    "    vocs=vocs,\n",
    ")\n",
    "X2.strict = False"
   ]
  },
  {
   "cell_type": "code",
   "execution_count": null,
   "metadata": {
    "ExecuteTime": {
     "end_time": "2023-09-08T21:35:57.154830200Z",
     "start_time": "2023-09-08T21:35:51.660788Z"
    },
    "execution": {
     "iopub.execute_input": "2024-09-13T15:54:32.232629Z",
     "iopub.status.busy": "2024-09-13T15:54:32.232540Z",
     "iopub.status.idle": "2024-09-13T15:54:32.477829Z",
     "shell.execute_reply": "2024-09-13T15:54:32.477089Z"
    }
   },
   "outputs": [],
   "source": [
    "X2.step()"
   ]
  },
  {
   "cell_type": "code",
   "execution_count": null,
   "metadata": {
    "execution": {
     "iopub.execute_input": "2024-09-13T15:54:32.480558Z",
     "iopub.status.busy": "2024-09-13T15:54:32.480378Z",
     "iopub.status.idle": "2024-09-13T15:54:33.023925Z",
     "shell.execute_reply": "2024-09-13T15:54:33.023594Z"
    }
   },
   "outputs": [],
   "source": [
    "for _ in range(20):\n",
    "    X2.step()\n",
    "\n",
    "len(X2.data)"
   ]
  },
  {
   "cell_type": "code",
   "execution_count": null,
   "metadata": {
    "execution": {
     "iopub.execute_input": "2024-09-13T15:54:33.025554Z",
     "iopub.status.busy": "2024-09-13T15:54:33.025427Z",
     "iopub.status.idle": "2024-09-13T15:54:33.353435Z",
     "shell.execute_reply": "2024-09-13T15:54:33.353146Z"
    }
   },
   "outputs": [],
   "source": [
    "X2.data.plot.scatter(\"x\", \"y\")"
   ]
  },
  {
   "cell_type": "code",
   "execution_count": null,
   "metadata": {
    "execution": {
     "iopub.execute_input": "2024-09-13T15:54:33.355036Z",
     "iopub.status.busy": "2024-09-13T15:54:33.354876Z",
     "iopub.status.idle": "2024-09-13T15:54:33.977523Z",
     "shell.execute_reply": "2024-09-13T15:54:33.976871Z"
    },
    "tags": []
   },
   "outputs": [],
   "source": [
    "# Asynchronous, Vectorized\n",
    "X2 = AsynchronousXopt(\n",
    "    generator=RandomGenerator(vocs=vocs),\n",
    "    evaluator=Evaluator(function=f, executor=executor, max_workers=MAX_WORKERS),\n",
    "    vocs=vocs,\n",
    ")\n",
    "X2.evaluator.vectorized = True\n",
    "X2.strict = False\n",
    "\n",
    "# This takes fewer steps to achieve a similar number of evaluations\n",
    "for _ in range(3):\n",
    "    X2.step()\n",
    "\n",
    "len(X2.data)"
   ]
  }
 ],
 "metadata": {
  "kernelspec": {
   "display_name": "Python 3 (ipykernel)",
   "language": "python",
   "name": "python3"
  },
  "language_info": {
   "codemirror_mode": {
    "name": "ipython",
    "version": 3
   },
   "file_extension": ".py",
   "mimetype": "text/x-python",
   "name": "python",
   "nbconvert_exporter": "python",
   "pygments_lexer": "ipython3",
   "version": "3.12.6"
  },
  "vscode": {
   "interpreter": {
    "hash": "4483d4964800812ebc77892a92dde3b54705ec8a224d63d9bb659e2cc457018b"
   }
  }
 },
 "nbformat": 4,
 "nbformat_minor": 4
}
